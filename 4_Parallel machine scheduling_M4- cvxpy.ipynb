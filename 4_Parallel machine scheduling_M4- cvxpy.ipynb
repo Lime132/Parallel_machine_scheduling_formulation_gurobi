{
 "cells": [
  {
   "cell_type": "code",
   "execution_count": 11,
   "metadata": {
    "executionInfo": {
     "elapsed": 17,
     "status": "ok",
     "timestamp": 1748257059877,
     "user": {
      "displayName": "Joonmo Sung",
      "userId": "09164233393338433441"
     },
     "user_tz": -540
    },
    "id": "pxo7IV3YOJvP"
   },
   "outputs": [],
   "source": [
    "import cvxpy as cp\n",
    "import json"
   ]
  },
  {
   "cell_type": "markdown",
   "metadata": {
    "id": "ySK7dyv5OJvQ"
   },
   "source": [
    "# 저자\n",
    "\n",
    "- TA: 성준모 (Joonmo Sung)\n",
    "- SYSTEMS MODELING AND PROGRAMMING LAB DEPARTMENT OF INDUSTRIAL ENGINEERING, YONSEI UNIVERSITY - SYMPLY\n",
    "- 문의: `sjm21314@naver.com`,`sjm21314@yonsei.ac.kr`\n",
    "***\n",
    "본 강의자료는 Keha,A. B.,Khowala,K.,&Fowler,J. W. (2009). Mixed integer programming formulations for single machine scheduling problems. Computers & Industrial Engineering, 56(1), 357-367 논문을 바탕으로 제작되었으며,\n",
    "\n",
    "반도체데이터사이언스 협동과정 수업 용도 이외의 목적으로 저자의 허락 없이 다른 사람들과 공유할 수 없습니다."
   ]
  },
  {
   "cell_type": "markdown",
   "metadata": {
    "id": "HyDHrUJyOJvQ"
   },
   "source": [
    "## Dataset\n",
    "### Set\n",
    "- J = $\\{1,2,...,n\\}, j \\in J$ (Job)\n",
    "- $\\mu$ = $\\{1,2, ..., m\\}, i \\in \\mu$ (Machine)\n",
    "### Parameters\n",
    "- $p_j$: processing time of job $j$\n",
    "- $d_j$: due date of job $j$\n",
    "- $w_j$: weight of job $j$\n",
    "- $r_j$: release date of job $j$"
   ]
  },
  {
   "cell_type": "code",
   "execution_count": 12,
   "metadata": {},
   "outputs": [],
   "source": [
    "with open('data.json') as file:\n",
    "    data = json.load(file)"
   ]
  },
  {
   "cell_type": "code",
   "execution_count": 13,
   "metadata": {},
   "outputs": [
    {
     "name": "stdout",
     "output_type": "stream",
     "text": [
      "5\n",
      "{'0': 1, '1': 15, '2': 12, '3': 13, '4': 9}\n",
      "{'0': 30, '1': 5, '2': 15, '3': 22, '4': 40}\n",
      "{'0': 6, '1': 3, '2': 2, '3': 5, '4': 2}\n",
      "{'0': 22, '1': 16, '2': 15, '3': 4, '4': 10}\n"
     ]
    }
   ],
   "source": [
    "print(len(data['N']))\n",
    "print(data['p'])\n",
    "print(data['d'])\n",
    "print(data['w'])\n",
    "print(data['r'])"
   ]
  },
  {
   "cell_type": "code",
   "execution_count": 14,
   "metadata": {
    "executionInfo": {
     "elapsed": 2,
     "status": "ok",
     "timestamp": 1748257059899,
     "user": {
      "displayName": "Joonmo Sung",
      "userId": "09164233393338433441"
     },
     "user_tz": -540
    },
    "id": "YiU068j5OJvQ"
   },
   "outputs": [],
   "source": [
    "# Offline 상황을 가정.\n",
    "\n",
    "n = len(data['N']) # 작업의 개수\n",
    "m = 2 # 기계의 개수 \n",
    "\n",
    "# Sets\n",
    "J = [_ for _ in range(n)] # 작업 set을 리스트 자료구조를 이용해 0, 1, 2,..., n-1 까지 담아줌\n",
    "Mu = [_ for _ in range(m)] # 기계 set을 리스트 자료구조를 이용해 0, 1, 2,..., m-1 까지 담아줌\n",
    "\n",
    "# Parameters\n",
    "p = [data['p'][f'{i}'] for i in J] # 작업의 가공시간 데이터를 리스트 자료구조를 이용해 만들어 줌\n",
    "d = [data['d'][f'{i}'] for i in J] # 작업의 마감 기한 데이터를 리스트 자료구조를 이용해 만들어 줌\n",
    "w = [data['w'][f'{i}'] for i in J] # 작업의 가중치 데이터를 리스트 자료구조를 이용해 만들어 줌\n",
    "r = [data['r'][f'{i}'] for i in J] # 작업의 release date(도착 시점) 데이터를 리스트 자료구조를 이용해 만들어 줌\n",
    "\n",
    "M = (sum(p) + sum(r)) * 2 # big M"
   ]
  },
  {
   "cell_type": "code",
   "execution_count": 15,
   "metadata": {},
   "outputs": [
    {
     "name": "stdout",
     "output_type": "stream",
     "text": [
      "[1, 15, 12, 13, 9]\n",
      "[30, 5, 15, 22, 40]\n",
      "[6, 3, 2, 5, 2]\n",
      "[22, 16, 15, 4, 10]\n"
     ]
    }
   ],
   "source": [
    "print(p)\n",
    "print(d)\n",
    "print(w)\n",
    "print(r)"
   ]
  },
  {
   "cell_type": "code",
   "execution_count": 16,
   "metadata": {
    "executionInfo": {
     "elapsed": 1,
     "status": "ok",
     "timestamp": 1748257059963,
     "user": {
      "displayName": "Joonmo Sung",
      "userId": "09164233393338433441"
     },
     "user_tz": -540
    },
    "id": "huDHpyE9OJvR"
   },
   "outputs": [],
   "source": [
    "obj_select = 'wct' # 'wct', 'tj', 'twt', 'L_max' 'C_max' 중 하나 선택\n",
    "release_time = True"
   ]
  },
  {
   "cell_type": "markdown",
   "metadata": {},
   "source": [
    "# Identical Parallel machines (Pm) 상황을 가정"
   ]
  },
  {
   "cell_type": "markdown",
   "metadata": {},
   "source": [
    "## M4 - Linear ordering model formulation"
   ]
  },
  {
   "cell_type": "markdown",
   "metadata": {},
   "source": [
    "### Decision Variables\n",
    "- $\\delta_{l,j}$: 작업 $l$가 작업 $j$보다 앞에서 시작하면 1, 아니면 0인 이진변수, $\\delta_{l,j} \\in \\{0, 1\\} \\ \\forall l \\in J, \\forall j \\in J$\n",
    "- $z_{l,i}$: 작업 $l$이 기계 $i$에 할당되면 1, 아니면 0인 이진변수, $z_{l,i} \\in \\{0, 1\\} \\quad \\forall l \\in J, \\forall i \\in \\mu $\n",
    "- $y_{l,j}$: 작업 $l$이 작업 $j$와 다른 기계에 있으면 1, 아니면 0인 이진변수, $ y_{l,j} \\in \\{0, 1\\} \\quad \\forall l \\in J, \\forall j \\in J$"
   ]
  },
  {
   "cell_type": "code",
   "execution_count": 17,
   "metadata": {},
   "outputs": [],
   "source": [
    "# Decision Variable 만들기\n",
    "delta = {(l, j): cp.Variable(boolean = True, name = f\"delta_{l+1}_{j+1}\") for l in J for j in J}\n",
    "z = {(l, i): cp.Variable(boolean = True, name = f\"z_{l+1}_{i+1}\") for l in J for i in Mu}\n",
    "y = {(l, j): cp.Variable(boolean = True, name = f\"y_{l+1}_{j+1}\") for l in J for j in J}\n",
    "C = {(j): cp.Variable(nonneg = True, name = f\"C_{j+1}\") for j in J}"
   ]
  },
  {
   "cell_type": "markdown",
   "metadata": {
    "id": "iXANaEPqOJvW"
   },
   "source": [
    "### 기본 constraint\n",
    "- $\\delta_{l,j} + \\delta_{j,l} + y_{l,j} = 1 \\quad \\forall l \\in J, \\forall j \\in J, l < j$\n",
    "- $\\delta_{l,j} + \\delta_{j,k} + \\delta_{k,l} \\leq 2 \\quad \\forall l,j,k \\in J, l < j < k $\n",
    "- $z_{l,i} + z_{j,i} + y_{l,j} \\leq 2 \\quad \\forall l \\in J, \\forall j \\in J, l < j, \\forall i \\in \\mu$\n",
    "- $\\sum_{i \\in \\mu}z_{l,i} = 1 \\quad \\forall l \\in J$\n",
    "- $C_j \\geq p_jz_{j,i} \\quad \\forall j \\in J, \\forall i \\in \\mu$\n",
    "- $C_j \\geq C_l + p_j(\\delta_{l,j} + z_{l,i} + z_{j,i} - 2) - M(1 - \\delta_{l,j}) \\quad \\forall l \\in J, \\forall j \\in J, \\forall i \\in \\mu$"
   ]
  },
  {
   "cell_type": "code",
   "execution_count": 18,
   "metadata": {},
   "outputs": [],
   "source": [
    "constraints = []\n",
    "\n",
    "constraints += [delta[l,j] + delta[j,l] + y[l,j] == 1 for l in J for j in J if l < j]\n",
    "constraints += [delta[l,j] + delta[j,k] + delta[k,l] <= 2 for l in J for j in J for k in J if l < j < k]\n",
    "constraints += [z[l,i] + z[j,i] + y[l,j] <= 2 for i in Mu for l in J for j in J if l < j]\n",
    "constraints += [sum(z[l,i] for i in Mu) == 1 for l in J]\n",
    "constraints += [C[j] >= p[j]*z[j,i] for i in Mu for j in J]\n",
    "constraints += [C[j] >= C[l] + p[j]*(delta[l,j] + z[l,i] +z[j,i] - 2) - M*(1-delta[l,j]) for i in Mu for l in J for j in J]"
   ]
  },
  {
   "cell_type": "markdown",
   "metadata": {
    "id": "S7GBrjtQOJvW"
   },
   "source": [
    "#### Release time 반영 제약식\n",
    "$C_j \\geq r_j + p_jz_{j,i} \\quad \\forall j \\in J, \\forall i \\in \\mu$"
   ]
  },
  {
   "cell_type": "code",
   "execution_count": 19,
   "metadata": {
    "executionInfo": {
     "elapsed": 1,
     "status": "ok",
     "timestamp": 1748257061422,
     "user": {
      "displayName": "Joonmo Sung",
      "userId": "09164233393338433441"
     },
     "user_tz": -540
    },
    "id": "vLSAu_LdOJvW"
   },
   "outputs": [],
   "source": [
    "if release_time == True:\n",
    "    \n",
    "    constraints += [C[j] >= r[j] + p[j]*z[j,i] for i in Mu for j in J]"
   ]
  },
  {
   "cell_type": "markdown",
   "metadata": {
    "id": "-jCd-w0COJvX"
   },
   "source": [
    "#### To minimize the total weighted completion time\n",
    "- $ Minimize \\sum_{j \\in J} w_j C_j$"
   ]
  },
  {
   "cell_type": "code",
   "execution_count": 20,
   "metadata": {},
   "outputs": [],
   "source": [
    "if obj_select == \"wct\":\n",
    "\n",
    "    # 목적식\n",
    "    obj = cp.Minimize(sum(w[j] * C[j] for j in J))"
   ]
  },
  {
   "cell_type": "markdown",
   "metadata": {},
   "source": [
    "#### To minimize the total weighted tardiness\n",
    "\n",
    "- $ Minimize \\sum_{j \\in J} w_j T_j$\n",
    "- $ T_j \\geq C_j - d_j \\quad \\forall j \\in J $"
   ]
  },
  {
   "cell_type": "code",
   "execution_count": 21,
   "metadata": {},
   "outputs": [],
   "source": [
    "if obj_select == \"twt\":\n",
    "    \n",
    "    # 작업의 종료 시점을 나타내는 T_j 선언\n",
    "    T = {(j): cp.Variable(nonneg = True, name = f\"T_{j+1}\") for j in J}\n",
    "\n",
    "    # T_j 제약식 추가\n",
    "    constraints += [T[j] >= C[j] - d[j] for j in J]\n",
    "\n",
    "    # 목적식\n",
    "    obj = cp.Minimize(sum(w[j] * T[j] for j in J))"
   ]
  },
  {
   "cell_type": "markdown",
   "metadata": {},
   "source": [
    "#### To minimize $L_{max}$\n",
    "- $ Minimize \\ L_{max}$\n",
    "- $ L_{max} \\geq (C_j - d_j) \\quad \\forall j \\in N$"
   ]
  },
  {
   "cell_type": "code",
   "execution_count": 22,
   "metadata": {},
   "outputs": [],
   "source": [
    "if obj_select == \"L_max\":\n",
    "     \n",
    "    # L_max 선언\n",
    "    L_max = cp.Variable(name= \"L_max\") # L_max를 나타내는 연속형 변수\n",
    "\n",
    "    # L_max 제약식\n",
    "    constraints += [L_max >= C[j] - d[j] for j in J]\n",
    "    # 목적식\n",
    "    obj = cp.Minimize(L_max)"
   ]
  },
  {
   "cell_type": "markdown",
   "metadata": {},
   "source": [
    "#### To minimize the number of tardy jobs\n",
    "- $ Minimize \\ \\sum_{j \\in J}U_j$\n",
    "- $ C_j \\leq d_j + MU_j \\quad \\forall j \\in J$\n",
    "- $ U_j \\in \\{0, 1\\}$"
   ]
  },
  {
   "cell_type": "code",
   "execution_count": 23,
   "metadata": {},
   "outputs": [],
   "source": [
    "if obj_select == \"tj\":\n",
    "    \n",
    "    # 작업의 종료 시점을 나타내는 U_j 선언\n",
    "    U = {(j): cp.Variable(boolean = True, name = f\"U_{j+1}\") for j in J}\n",
    "\n",
    "    # U_j 제약식 추가\n",
    "    constraints += [C[j] <= d[j] + M*U[j] for j in J]\n",
    "\n",
    "    # 목적식\n",
    "    obj = cp.Minimize(sum(U[j] for j in J))"
   ]
  },
  {
   "cell_type": "markdown",
   "metadata": {},
   "source": [
    "#### To minimize makespan\n",
    "- $ Minimize \\ C_{max} $\n",
    "- $ C_{max} \\geq C_j \\quad \\forall j \\in J $"
   ]
  },
  {
   "cell_type": "code",
   "execution_count": 24,
   "metadata": {},
   "outputs": [],
   "source": [
    "if obj_select == 'C_max':\n",
    "    # Makespan인 C_max 선언\n",
    "    C_max = cp.Variable(nonneg = True, name= \"C_max\") \n",
    "\n",
    "    # C_max 제약식\n",
    "    constraints += [C_max >= C[j] for j in J]\n",
    "\n",
    "    # 목적식\n",
    "    obj = cp.Minimize(C_max)"
   ]
  },
  {
   "cell_type": "code",
   "execution_count": 25,
   "metadata": {
    "colab": {
     "base_uri": "https://localhost:8080/",
     "height": 1000
    },
    "executionInfo": {
     "elapsed": 12552,
     "status": "error",
     "timestamp": 1748257074069,
     "user": {
      "displayName": "Joonmo Sung",
      "userId": "09164233393338433441"
     },
     "user_tz": -540
    },
    "id": "LJQC5EacOJvY",
    "outputId": "1cd4785a-3d50-4f41-9210-c1b788b4d74d"
   },
   "outputs": [
    {
     "name": "stdout",
     "output_type": "stream",
     "text": [
      "Set parameter Username\n",
      "Set parameter LicenseID to value 2583767\n",
      "Academic license - for non-commercial use only - expires 2025-11-14\n"
     ]
    },
    {
     "data": {
      "text/plain": [
       "np.float64(427.0)"
      ]
     },
     "execution_count": 25,
     "metadata": {},
     "output_type": "execute_result"
    }
   ],
   "source": [
    "prob = cp.Problem(obj, constraints)\n",
    "prob.solve()"
   ]
  },
  {
   "cell_type": "code",
   "execution_count": 26,
   "metadata": {
    "executionInfo": {
     "elapsed": 14399,
     "status": "aborted",
     "timestamp": 1748257074107,
     "user": {
      "displayName": "Joonmo Sung",
      "userId": "09164233393338433441"
     },
     "user_tz": -540
    },
    "id": "3zXeGfDHOJvY"
   },
   "outputs": [
    {
     "name": "stdout",
     "output_type": "stream",
     "text": [
      "최적해 상태: optimal\n",
      "최적값: 427.0\n"
     ]
    }
   ],
   "source": [
    "print(\"최적해 상태:\", prob.status)\n",
    "print(\"최적값:\", prob.value)"
   ]
  },
  {
   "cell_type": "code",
   "execution_count": 27,
   "metadata": {
    "executionInfo": {
     "elapsed": 14399,
     "status": "aborted",
     "timestamp": 1748257074108,
     "user": {
      "displayName": "Joonmo Sung",
      "userId": "09164233393338433441"
     },
     "user_tz": -540
    },
    "id": "0jcdwjNKOJvY"
   },
   "outputs": [
    {
     "name": "stdout",
     "output_type": "stream",
     "text": [
      "delta_1_3: 1.0\n",
      "delta_4_1: 1.0\n",
      "delta_4_2: 1.0\n",
      "delta_4_3: 1.0\n",
      "delta_4_5: 1.0\n",
      "delta_5_1: 1.0\n",
      "delta_5_2: 1.0\n",
      "delta_5_3: 1.0\n"
     ]
    }
   ],
   "source": [
    "for (l, j), dv in delta.items(): \n",
    "    if dv.value != None and dv.value > 1e-6: # l = j인 경우 value가 None인 경우 존재\n",
    "        print(f\"{dv}: {dv.value}\")"
   ]
  },
  {
   "cell_type": "code",
   "execution_count": 28,
   "metadata": {},
   "outputs": [
    {
     "name": "stdout",
     "output_type": "stream",
     "text": [
      "z_1_2: 1.0\n",
      "z_2_1: 1.0\n",
      "z_3_2: 1.0\n",
      "z_4_1: 1.0\n",
      "z_5_2: 1.0\n"
     ]
    }
   ],
   "source": [
    "for (l, i), dv in z.items(): \n",
    "    if dv.value != None and dv.value > 1e-6: # l = j인 경우 value가 None인 경우 존재\n",
    "        print(f\"{dv}: {dv.value}\")"
   ]
  },
  {
   "cell_type": "code",
   "execution_count": 29,
   "metadata": {},
   "outputs": [],
   "source": [
    "import Gantt_Chart"
   ]
  },
  {
   "cell_type": "code",
   "execution_count": 30,
   "metadata": {},
   "outputs": [
    {
     "data": {
      "image/png": "[encoded data removed]",
      "text/plain": [
       "<Figure size 1000x500 with 1 Axes>"
      ]
     },
     "metadata": {},
     "output_type": "display_data"
    }
   ],
   "source": [
    "Gantt_Chart.M4_cvxpy_gantt(C, z, p, J, m)"
   ]
  },
  {
   "cell_type": "code",
   "execution_count": null,
   "metadata": {},
   "outputs": [],
   "source": []
  }
 ],
 "metadata": {
  "colab": {
   "provenance": []
  },
  "kernelspec": {
   "display_name": "Python 3",
   "language": "python",
   "name": "python3"
  },
  "language_info": {
   "codemirror_mode": {
    "name": "ipython",
    "version": 3
   },
   "file_extension": ".py",
   "mimetype": "text/x-python",
   "name": "python",
   "nbconvert_exporter": "python",
   "pygments_lexer": "ipython3",
   "version": "3.11.9"
  },
  "orig_nbformat": 4
 },
 "nbformat": 4,
 "nbformat_minor": 0
}
