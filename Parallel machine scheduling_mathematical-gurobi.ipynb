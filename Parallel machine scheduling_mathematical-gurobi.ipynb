{
 "cells": [
  {
   "cell_type": "code",
   "execution_count": 1,
   "metadata": {
    "executionInfo": {
     "elapsed": 17,
     "status": "ok",
     "timestamp": 1748257059877,
     "user": {
      "displayName": "Joonmo Sung",
      "userId": "09164233393338433441"
     },
     "user_tz": -540
    },
    "id": "pxo7IV3YOJvP"
   },
   "outputs": [],
   "source": [
    "import gurobipy as gp\n",
    "from gurobipy import GRB, quicksum\n",
    "import json\n",
    "import Gantt_Chart"
   ]
  },
  {
   "cell_type": "code",
   "execution_count": 2,
   "metadata": {
    "executionInfo": {
     "elapsed": 20,
     "status": "ok",
     "timestamp": 1748257059898,
     "user": {
      "displayName": "Joonmo Sung",
      "userId": "09164233393338433441"
     },
     "user_tz": -540
    },
    "id": "8aaS0YBCOL8P"
   },
   "outputs": [],
   "source": [
    "# pip install gurobipy"
   ]
  },
  {
   "cell_type": "markdown",
   "metadata": {
    "id": "ySK7dyv5OJvQ"
   },
   "source": [
    "# 저자\n",
    "\n",
    "- TA: 성준모 (Joonmo Sung)\n",
    "- SYSTEMS MODELING AND PROGRAMMING LAB DEPARTMENT OF INDUSTRIAL ENGINEERING, YONSEI UNIVERSITY - SYMPLY\n",
    "- 문의: `sjm21314@naver.com`,`sjm21314@yonsei.ac.kr`\n",
    "***\n",
    "본 강의자료는 Keha,A. B.,Khowala,K.,&Fowler,J. W. (2009). Mixed integer programming formulations for single machine scheduling problems. Computers & Industrial Engineering, 56(1), 357-367 논문을 바탕으로 제작되었으며,\n",
    "\n",
    "반도체데이터사이언스 협동과정 수업 용도 이외의 목적으로 저자의 허락 없이 다른 사람들과 공유할 수 없습니다."
   ]
  },
  {
   "cell_type": "markdown",
   "metadata": {},
   "source": [
    "## Gurobi 참고사항\n",
    "1. gurobi 12.0.1 version은 python 3.8 이전 버전에서는 작동하지 않음. 혹시 버전이 맞지 않으실 경우 아래 사이트에서 맞는 버전을 찾으시면 됩니다\n",
    "- https://support.gurobi.com/hc/en-us/articles/360013195212-Which-Python-versions-are-supported-by-Gurobi\n",
    "2. gurobi license 발급 후 cvxpy에서 solver를 gurobi를 선택하시는 것과 gurobipy에서 구현한 코드도 gurobi solver를 사용하는 것은 동일한 solver를 사용하나, gurobipy를 사용하는 것이 더 효율적일 것입니다\n",
    "3. IP 문제로 academic license 발급이 어려우신 경우 학교 VPN을 이용할 수 있는 방법이 있습니다.\n",
    "\n",
    "    3-1. 스마트폰에서 Authenticator 어플리케이션 설치 후 yonsei 계정으로 로그인\n",
    "\n",
    "    3- 2. https://ysvpn.yonsei.ac.kr/ 으로 들어가셔서 어플리케이션에서 QR 찍으시고 인증 후 접속하시면 됩니다. "
   ]
  },
  {
   "cell_type": "markdown",
   "metadata": {
    "id": "HyDHrUJyOJvQ"
   },
   "source": [
    "## Dataset\n",
    "### Set\n",
    "- J = $\\{1,2,...,n\\}, j \\in J$ (Job)\n",
    "- $\\mu$ = $\\{1,2, ..., m\\}, i \\in \\mu$ (Machine)\n",
    "### Parameters\n",
    "- $p_j$: processing time of job $j$\n",
    "- $d_j$: due date of job $j$\n",
    "- $w_j$: weight of job $j$\n",
    "- $r_j$: release date of job $j$"
   ]
  },
  {
   "cell_type": "code",
   "execution_count": 3,
   "metadata": {},
   "outputs": [],
   "source": [
    "with open('data.json') as file:\n",
    "    data = json.load(file)"
   ]
  },
  {
   "cell_type": "code",
   "execution_count": 4,
   "metadata": {},
   "outputs": [
    {
     "name": "stdout",
     "output_type": "stream",
     "text": [
      "5\n",
      "{'0': 1, '1': 15, '2': 12, '3': 13, '4': 9}\n",
      "{'0': 30, '1': 5, '2': 15, '3': 22, '4': 40}\n",
      "{'0': 6, '1': 3, '2': 2, '3': 5, '4': 2}\n",
      "{'0': 22, '1': 16, '2': 15, '3': 4, '4': 10}\n"
     ]
    }
   ],
   "source": [
    "print(len(data['N']))\n",
    "print(data['p'])\n",
    "print(data['d'])\n",
    "print(data['w'])\n",
    "print(data['r'])"
   ]
  },
  {
   "cell_type": "code",
   "execution_count": 5,
   "metadata": {
    "executionInfo": {
     "elapsed": 2,
     "status": "ok",
     "timestamp": 1748257059899,
     "user": {
      "displayName": "Joonmo Sung",
      "userId": "09164233393338433441"
     },
     "user_tz": -540
    },
    "id": "YiU068j5OJvQ"
   },
   "outputs": [],
   "source": [
    "# Offline 상황을 가정.\n",
    "\n",
    "n = len(data['N']) # 작업의 개수\n",
    "m = 2 # 기계의 개수 \n",
    "\n",
    "# Sets\n",
    "J = [_ for _ in range(n)] # 작업 set을 리스트 자료구조를 이용해 0, 1, 2,..., n-1 까지 담아줌\n",
    "Mu = [_ for _ in range(m)] # 기계 set을 리스트 자료구조를 이용해 0, 1, 2,..., m-1 까지 담아줌\n",
    "\n",
    "# Parameters\n",
    "p = [data['p'][f'{i}'] for i in J] # 작업의 가공시간 데이터를 리스트 자료구조를 이용해 만들어 줌\n",
    "d = [data['d'][f'{i}'] for i in J] # 작업의 마감 기한 데이터를 리스트 자료구조를 이용해 만들어 줌\n",
    "w = [data['w'][f'{i}'] for i in J] # 작업의 가중치 데이터를 리스트 자료구조를 이용해 만들어 줌\n",
    "r = [data['r'][f'{i}'] for i in J] # 작업의 release date(도착 시점) 데이터를 리스트 자료구조를 이용해 만들어 줌\n",
    "\n",
    "M = (sum(p) + sum(r)) * 2 # big M"
   ]
  },
  {
   "cell_type": "code",
   "execution_count": 6,
   "metadata": {},
   "outputs": [
    {
     "name": "stdout",
     "output_type": "stream",
     "text": [
      "[1, 15, 12, 13, 9]\n",
      "[30, 5, 15, 22, 40]\n",
      "[6, 3, 2, 5, 2]\n",
      "[22, 16, 15, 4, 10]\n"
     ]
    }
   ],
   "source": [
    "print(p)\n",
    "print(d)\n",
    "print(w)\n",
    "print(r)"
   ]
  },
  {
   "cell_type": "code",
   "execution_count": 7,
   "metadata": {
    "colab": {
     "base_uri": "https://localhost:8080/"
    },
    "executionInfo": {
     "elapsed": 47,
     "status": "ok",
     "timestamp": 1748257059963,
     "user": {
      "displayName": "Joonmo Sung",
      "userId": "09164233393338433441"
     },
     "user_tz": -540
    },
    "id": "Jl_F6eiOOf9R",
    "outputId": "ab66de80-9b88-4f2b-f87c-54c84b298764"
   },
   "outputs": [],
   "source": [
    "# Create an environment with your WLS license\n",
    "# params = {\n",
    "# \"WLSACCESSID\": 'your wls accessid (string)',\n",
    "# \"WLSSECRET\": 'your wls secret (string)',\n",
    "# \"LICENSEID\": <your license id (integer)>,\n",
    "# }\n",
    "# env = gp.Env(params=params)\n",
    "\n",
    "# # Create the model within the Gurobi environment\n",
    "# model = gp.Model(env=env)"
   ]
  },
  {
   "cell_type": "code",
   "execution_count": null,
   "metadata": {
    "executionInfo": {
     "elapsed": 1,
     "status": "ok",
     "timestamp": 1748257059963,
     "user": {
      "displayName": "Joonmo Sung",
      "userId": "09164233393338433441"
     },
     "user_tz": -540
    },
    "id": "huDHpyE9OJvR"
   },
   "outputs": [],
   "source": [
    "obj_select = 'wct' # 'wct', 'tj', 'twt', 'L_max' 'C_max' 중 하나 선택\n",
    "release_time = True"
   ]
  },
  {
   "cell_type": "markdown",
   "metadata": {},
   "source": [
    "# Identical Parallel machines (Pm) 상황을 가정"
   ]
  },
  {
   "cell_type": "markdown",
   "metadata": {
    "id": "h2u93KjVOJvS"
   },
   "source": [
    "## M1 - Time-indexed model formulation"
   ]
  },
  {
   "cell_type": "markdown",
   "metadata": {},
   "source": [
    "### Sets\n",
    "- $\\tau$: Set of time periods, t = 1,2,...,l"
   ]
  },
  {
   "cell_type": "code",
   "execution_count": 9,
   "metadata": {},
   "outputs": [],
   "source": [
    "l = sum(p) + max(r) # l은 마지막 작업의 종료 시점에 대한 upper bound\n",
    "Tau = [_ for _ in range(l)] # Time horizon set 설정"
   ]
  },
  {
   "cell_type": "markdown",
   "metadata": {
    "id": "5az8PykvOJvS"
   },
   "source": [
    "### Decision Variables\n",
    "- $x_{i,j,t}$: 작업 $j$가 머신 $i$에서 period t에서 시작하면 1, 아니면 0인 이진변수, $x_{i,j,t} \\in \\{0, 1\\} \\ \\forall i \\in \\tau,  \\forall j \\in N, \\forall t \\in \\tau$"
   ]
  },
  {
   "cell_type": "code",
   "execution_count": 10,
   "metadata": {
    "executionInfo": {
     "elapsed": 37,
     "status": "ok",
     "timestamp": 1748257060001,
     "user": {
      "displayName": "Joonmo Sung",
      "userId": "09164233393338433441"
     },
     "user_tz": -540
    },
    "id": "hifwr_c5OJvS"
   },
   "outputs": [
    {
     "name": "stdout",
     "output_type": "stream",
     "text": [
      "Set parameter Username\n",
      "Set parameter LicenseID to value 2583767\n",
      "Academic license - for non-commercial use only - expires 2025-11-14\n"
     ]
    }
   ],
   "source": [
    "# 모델 선언\n",
    "model_MIP_1 = gp.Model(\"MIP_1\") # 먼저 모델 선언 \n",
    "\n",
    "# colab 경우\n",
    "# model_MIP_1 = gp.Model(\"MIP_1\", env = env) \n",
    "\n",
    "# Decision Variable 만들기\n",
    "x =  {(i, j, t): model_MIP_1.addVar(vtype=GRB.BINARY, name=f\"x_{i+1}_{j+1}_{t}\") for i in Mu for j in J for t in Tau} "
   ]
  },
  {
   "cell_type": "markdown",
   "metadata": {
    "id": "iAUPHM6_OJvT"
   },
   "source": [
    "### 기본 constraint\n",
    "- $\\sum_{i \\in \\mu}\\sum_{t=0}^{l-p_j+1} x_{i,j,t} = 1 \\quad \\forall j \\in J$\n",
    "- $\\sum_{j \\in J} \\sum_{h = max(0, t-p_j+1)}^t x_{i,j,h} \\leq 1 \\quad \\quad i \\in \\mu, \\forall t \\in \\tau$"
   ]
  },
  {
   "cell_type": "code",
   "execution_count": 11,
   "metadata": {
    "executionInfo": {
     "elapsed": 800,
     "status": "ok",
     "timestamp": 1748257060863,
     "user": {
      "displayName": "Joonmo Sung",
      "userId": "09164233393338433441"
     },
     "user_tz": -540
    },
    "id": "3qUXg_4rOJvT"
   },
   "outputs": [],
   "source": [
    "constraint1_1 = {(j): model_MIP_1.addConstr(quicksum(quicksum(x[i,j,t] for t in range(0, len(Tau)-p[j]+1)) for i in Mu) == 1, name = f\"constraint1_1_{j}\") for j in J}\n",
    "constraint1_2 = {(i, t): model_MIP_1.addConstr(quicksum(quicksum(x[i,j,h] for h in range(max(0, t-p[j]+1), t + 1)) for j in J) <= 1, name = f\"constraint1_2_{i}_{t}\") for i in Mu for t in Tau}"
   ]
  },
  {
   "cell_type": "markdown",
   "metadata": {
    "id": "yWzEzW8BOJvT"
   },
   "source": [
    "#### Release time 반영 제약식\n",
    "$ \\sum_{i \\in \\mu} \\sum_{t = 0}^{r_j -1} x_{i,j,t} = 0 \\quad \\forall j \\in J $"
   ]
  },
  {
   "cell_type": "code",
   "execution_count": 12,
   "metadata": {
    "executionInfo": {
     "elapsed": 3,
     "status": "ok",
     "timestamp": 1748257060867,
     "user": {
      "displayName": "Joonmo Sung",
      "userId": "09164233393338433441"
     },
     "user_tz": -540
    },
    "id": "GTO4ZYNYOJvT"
   },
   "outputs": [],
   "source": [
    "if release_time == True:\n",
    "    constrain1_3 = {(j): model_MIP_1.addConstr(quicksum(quicksum(x[i,j,t]  for t in range(0, r[j])) for i in Mu)== 0, name = f\"constraint1_3_{j}\") for j in J}"
   ]
  },
  {
   "cell_type": "markdown",
   "metadata": {
    "id": "FT43ctjpOJvT"
   },
   "source": [
    "#### To minimize the total weighted completion time\n",
    "- $ Minimize \\sum_{j \\in J} w_j C_j$\n",
    "- $ C_j \\geq \\sum_{i \\in \\mu}\\sum_{t \\in \\Tau}(t + p_j) x_{i,j,t} \\quad \\forall j \\in J $"
   ]
  },
  {
   "cell_type": "code",
   "execution_count": 13,
   "metadata": {
    "executionInfo": {
     "elapsed": 4,
     "status": "ok",
     "timestamp": 1748257060868,
     "user": {
      "displayName": "Joonmo Sung",
      "userId": "09164233393338433441"
     },
     "user_tz": -540
    },
    "id": "HNZ24uSjOJvT"
   },
   "outputs": [],
   "source": [
    "if obj_select == \"wct\":\n",
    "    # 작업의 종료 시점을 나타내는 C_j 선언\n",
    "    C = {(j): model_MIP_1.addVar(vtype=GRB.CONTINUOUS, name = f\"C_{j+1}\") for j in J}\n",
    "\n",
    "    # C_j 관련 제약식 추가\n",
    "    constraint1_4 = {(j): model_MIP_1.addConstr(C[j] >= quicksum(quicksum((t+p[j]) * x[i,j,t] for t in Tau) for i in Mu), name = f\"constraint1_4_{j}\") for j in J}\n",
    "\n",
    "    # 목적식\n",
    "    model_MIP_1.setObjective(quicksum(w[j] * C[j] for j in J), GRB.MINIMIZE)"
   ]
  },
  {
   "cell_type": "markdown",
   "metadata": {},
   "source": [
    "#### To minimize the total weighted tardiness\n",
    "\n",
    "- $ Minimize \\sum_{j \\in J} w_j T_j$\n",
    "- $ C_j \\geq \\sum_{i \\in \\mu}\\sum_{t \\in \\Tau}(t + p_j) x_{i,j,t} \\quad \\forall j \\in J $\n",
    "- $ T_j \\geq C_j - d_j \\quad \\forall j \\in J $"
   ]
  },
  {
   "cell_type": "code",
   "execution_count": 14,
   "metadata": {},
   "outputs": [],
   "source": [
    "if obj_select == \"twt\":\n",
    "    \n",
    "    # 작업의 종료 시점을 나타내는 C_j와 T_j 선언\n",
    "    C = {(j): model_MIP_1.addVar(vtype=GRB.CONTINUOUS, name = f\"C_{j+1}\") for j in J}\n",
    "    T = {(j): model_MIP_1.addVar(vtype=GRB.CONTINUOUS, lb = 0, name = f\"T_{j}\") for j in J}\n",
    "\n",
    "    # C_j 관련 제약식 추가\n",
    "    constraint1_4 = {(j): model_MIP_1.addConstr(C[j] >= quicksum(quicksum((t+p[j]) * x[i,j,t] for t in Tau) for i in Mu), name = f\"constraint1_4_{j}\") for j in J}\n",
    "    # T_j 제약식 추가\n",
    "    constraint1_5 = {(j): model_MIP_1.addConstr(T[j] >= C[j] - d[j], name = f\"constraint1_5_{j}\") for j in J}\n",
    "\n",
    "    # 목적식\n",
    "    model_MIP_1.setObjective(quicksum(w[j] * T[j] for j in J), GRB.MINIMIZE)"
   ]
  },
  {
   "cell_type": "markdown",
   "metadata": {},
   "source": [
    "#### To minimize $L_{max}$\n",
    "- $ Minimize \\ L_{max}$\n",
    "- $ C_j \\geq \\sum_{i \\in \\mu}\\sum_{t \\in \\Tau}(t + p_j) x_{i,j,t} \\quad \\forall j \\in J $\n",
    "- $ L_{max} \\geq (C_j - d_j) \\quad \\forall j \\in N$"
   ]
  },
  {
   "cell_type": "code",
   "execution_count": 15,
   "metadata": {},
   "outputs": [],
   "source": [
    "if obj_select == \"L_max\":\n",
    "     \n",
    "    # 작업의 종료 시점을 나타내는 C_j와 L_max 선언\n",
    "    C = {(j): model_MIP_1.addVar(vtype=GRB.CONTINUOUS, name = f\"C_{j+1}\") for j in J}\n",
    "    L_max = model_MIP_1.addVar(vtype=GRB.CONTINUOUS, lb = -M, name= \"L_max\") # L_max를 나타내는 연속형 변수   \n",
    "\n",
    "    # C_j 관련 제약식 추가\n",
    "    constraint1_4 = {(j): model_MIP_1.addConstr(C[j] >= quicksum(quicksum((t+p[j]) * x[i,j,t] for t in Tau) for i in Mu), name = f\"constraint1_4_{j}\") for j in J}\n",
    "    # L_max 제약식\n",
    "    constraint1_5 = {(j): model_MIP_1.addConstr(L_max >= C[j] - d[j], name = f\"constraint1_5_{j}\") for j in J}\n",
    "\n",
    "    # 목적식\n",
    "    model_MIP_1.setObjective(L_max, GRB.MINIMIZE)"
   ]
  },
  {
   "cell_type": "markdown",
   "metadata": {
    "id": "eL8L5EQ4OJvT"
   },
   "source": [
    "#### To minimize the number of tardy jobs\n",
    "$ Minimize \\ \\sum_{i \\in \\mu}\\sum_{j \\in J}\\sum_{t \\in \\tau}\\frac{\\max(0, t-d_j+p_j)}{\\max(1, t - d_j + p_j)}x_{i,j,t}$"
   ]
  },
  {
   "cell_type": "code",
   "execution_count": 16,
   "metadata": {
    "executionInfo": {
     "elapsed": 2,
     "status": "ok",
     "timestamp": 1748257060868,
     "user": {
      "displayName": "Joonmo Sung",
      "userId": "09164233393338433441"
     },
     "user_tz": -540
    },
    "id": "YikuBW-iOJvT"
   },
   "outputs": [],
   "source": [
    "if obj_select == \"tj\":\n",
    "    # 목적식\n",
    "    model_MIP_1.setObjective(quicksum(quicksum(quicksum((max(0, t - d[j] + p[j]))/(max(1, t - d[j] + p[j])) * x[i,j,t] for t in Tau) for j in J) for i in Mu), GRB.MINIMIZE)"
   ]
  },
  {
   "cell_type": "markdown",
   "metadata": {},
   "source": [
    "#### To minimize makespan\n",
    "- $ Minimize \\ C_{max} $\n",
    "- $ C_{max} \\geq \\sum_{i \\in \\mu}\\sum_{t \\in \\Tau}(t + p_j) x_{i,j,t} \\quad \\forall j \\in J $"
   ]
  },
  {
   "cell_type": "code",
   "execution_count": 17,
   "metadata": {},
   "outputs": [],
   "source": [
    "if obj_select == 'C_max':\n",
    "\n",
    "    # Makespan인 C_max 선언\n",
    "    C_max = model_MIP_1.addVar(vtype=GRB.CONTINUOUS, name= \"C_max\") # C_max를 나타내는 연속형 변수\n",
    "\n",
    "    # C_max 제약식\n",
    "    constraint1_4 = {(j): model_MIP_1.addConstr(C_max >= quicksum(quicksum((t+p[j]) * x[i,j,t] for t in Tau) for i in Mu), name = f\"constraint1_4_{j}\") for j in J}\n",
    "\n",
    "    # 목적식\n",
    "    model_MIP_1.setObjective(C_max, GRB.MINIMIZE)"
   ]
  },
  {
   "cell_type": "markdown",
   "metadata": {
    "id": "Y79zvDwHOJvU"
   },
   "source": [
    "## M2 - Network model formulation"
   ]
  },
  {
   "cell_type": "markdown",
   "metadata": {
    "id": "d4LfQrInOJvW"
   },
   "source": [
    "### Dummy node \n",
    "- 논문에서는 더미 노드를 0으로 설정하였으나, 코드에서는 인덱스가 0부터 시작하기 때문에, -1을 더미 노드로 설정\n",
    "- $J_d$: dummy node가 포함된 작업의 집합\n",
    "### Decision Variables\n",
    "- $x_{i,l,j}$: 머신 $i$에서, 작업 $l$이 작업 $j$ 직전에 시작하면 1, 아니면 0인 이진변수, $x_{i,l,j} \\in \\{0, 1\\} \\ \\forall j \\in N, \\forall k \\in N$\n",
    "- $C_j$: 작업 $j$의 종료 시점 의미"
   ]
  },
  {
   "cell_type": "code",
   "execution_count": 18,
   "metadata": {},
   "outputs": [
    {
     "name": "stdout",
     "output_type": "stream",
     "text": [
      "J [0, 1, 2, 3, 4]\n",
      "J_d [-1, 0, 1, 2, 3, 4]\n"
     ]
    }
   ],
   "source": [
    "J_d = [-1] + J\n",
    "print('J', J)\n",
    "print('J_d', J_d)\n",
    "\n",
    "model_MIP_2 = gp.Model(\"MIP_2\")\n",
    "\n",
    "# colab 경우\n",
    "# model_MIP_2 = gp.Model(\"MIP_2\", env = env) \n",
    "\n",
    "# Decision Variable 만들기\n",
    "x = {(i, l, j): model_MIP_2.addVar(vtype=GRB.BINARY, name=f\"x_{i+1}_{l+1}_{j+1}\") for i in Mu for l in J_d for j in J_d}\n",
    "C = {(j): model_MIP_2.addVar(vtype=GRB.CONTINUOUS, name = f\"C_{j+1}\") for j in J_d}"
   ]
  },
  {
   "cell_type": "markdown",
   "metadata": {},
   "source": [
    "### 기본 constraint\n",
    "- $ \\sum_{i \\in \\mu}x_{i,l,-1} \\leq 1 \\quad \\forall l \\in J$ <- 논문 수식, 수정 필요: 이렇게 하면 한 기계에서밖에 작업을 못하게 됨 \n",
    "- $ \\sum_{i \\in \\mu}x_{i,-1,j} \\leq 1 \\quad \\forall j \\in J$ <- 논문 수식, 수정 필요: 이렇게 하면 한 기계에서밖에 작업을 못하게 됨 \n",
    "- $ \\sum_{l \\in J}x_{i,l,-1} \\leq 1 \\quad \\forall i \\in \\mu$ <- 논문 오류 있어 수정\n",
    "- $ \\sum_{j \\in J}x_{i,-1,j} \\leq 1 \\quad \\forall i \\in \\mu$ <- 논문 오류 있어 수정\n",
    "- $ \\sum_{l \\in J_d}\\sum_{i \\in \\mu}x_{i,l,j} = 1 \\quad \\forall j \\in J, l \\neq j$\n",
    "- $ \\sum_{j \\in J_d}\\sum_{i \\in \\mu}x_{i,l,j} = 1 \\quad \\forall l \\in J, l \\neq j$\n",
    "- $ \\sum_{l \\in J_d, l \\neq j}x_{i,l,j} - \\sum_{l \\in J_d, l \\neq j}x_{i,j,l} = 0\\quad \\forall j \\in J, \\forall i \\in \\mu$\n",
    "- $ C_l - C_j + (M - r_j)x_{i,l,j} \\leq M - (r_j + p_j) \\quad \\forall l \\in J_d, \\forall j \\in J, l \\neq j, \\forall i \\in \\mu$ <- release time이 제대로 반영되지 않음\n",
    "- $ C_l - C_j + Mx_{i,l,j} \\leq M - p_j \\quad \\forall l \\in J_d, \\forall j \\in J, l \\neq j, \\forall i \\in \\mu$"
   ]
  },
  {
   "cell_type": "code",
   "execution_count": 19,
   "metadata": {},
   "outputs": [],
   "source": [
    "constraint2_1 = {(i): model_MIP_2.addConstr(quicksum(x[i,l,-1] for l in J) <= 1, name = f\"constraint2_1_{i}\") for i in Mu}\n",
    "constraint2_2 = {(i): model_MIP_2.addConstr(quicksum(x[i,-1,j] for j in J) <= 1, name = f\"constraint2_2_{i}\") for i in Mu}\n",
    "constraint2_3 = {(j): model_MIP_2.addConstr(quicksum(quicksum(x[i,l,j] for i in Mu) for l in J_d if l != j) == 1, name = f\"constraint2_3_{j}\") for j in J}\n",
    "constraint2_4 = {(l): model_MIP_2.addConstr(quicksum(quicksum(x[i,l,j] for i in Mu) for j in J_d if l != j) == 1, name = f\"constraint2_4_{l}\") for l in J}\n",
    "constraint2_5 = {(i, j): model_MIP_2.addConstr(quicksum(x[i,l,j] for l in J_d if l != j) == quicksum(x[i,j,l] for l in J_d if l != j), name = f\"constraint2_5_{i}_{j}\") for i in Mu for j in J}\n",
    "constraint2_6 = {(i, j, l): model_MIP_2.addConstr(C[l] - C[j] + M*x[i,l,j] <= M - p[j], name = f\"constraint2_6_{i}_{j}_{l}\") for i in Mu for l in J_d for j in J if l != j} # release time 0 처리"
   ]
  },
  {
   "cell_type": "markdown",
   "metadata": {},
   "source": [
    "#### Release time 반영 제약식\n",
    "$C_j \\geq r_j + p_j\\quad \\forall j \\in J$"
   ]
  },
  {
   "cell_type": "code",
   "execution_count": 20,
   "metadata": {},
   "outputs": [],
   "source": [
    "if release_time == True:\n",
    "    constraint2 = {(j): model_MIP_2.addConstr(C[j] >= r[j] + p[j], name = f\"constraint2_{j}\") for j in J}"
   ]
  },
  {
   "cell_type": "markdown",
   "metadata": {},
   "source": [
    "#### To minimize the total weighted completion time\n",
    "- $ Minimize \\sum_{j \\in J} w_j C_j$"
   ]
  },
  {
   "cell_type": "code",
   "execution_count": 21,
   "metadata": {},
   "outputs": [],
   "source": [
    "if obj_select == \"wct\":\n",
    "\n",
    "    # 목적식\n",
    "    model_MIP_2.setObjective(quicksum(w[j] * C[j] for j in J), GRB.MINIMIZE)"
   ]
  },
  {
   "cell_type": "markdown",
   "metadata": {},
   "source": [
    "#### To minimize the total weighted tardiness\n",
    "\n",
    "- $ Minimize \\sum_{j \\in J} w_j T_j$\n",
    "- $ T_j \\geq C_j - d_j \\quad \\forall j \\in J $"
   ]
  },
  {
   "cell_type": "code",
   "execution_count": 22,
   "metadata": {},
   "outputs": [],
   "source": [
    "if obj_select == \"twt\":\n",
    "    \n",
    "    # 작업의 종료 시점을 나타내는 T_j 선언\n",
    "    T = {(j): model_MIP_2.addVar(vtype=GRB.CONTINUOUS, lb = 0, name = f\"T_{j}\") for j in J}\n",
    "\n",
    "    # T_j 제약식 추가\n",
    "    constraint2 = {(j): model_MIP_2.addConstr(T[j] >= C[j] - d[j], name = f\"constraint2_{j}\") for j in J}\n",
    "\n",
    "    # 목적식\n",
    "    model_MIP_2.setObjective(quicksum(w[j] * T[j] for j in J), GRB.MINIMIZE)"
   ]
  },
  {
   "cell_type": "markdown",
   "metadata": {},
   "source": [
    "#### To minimize $L_{max}$\n",
    "- $ Minimize \\ L_{max}$\n",
    "- $ L_{max} \\geq (C_j - d_j) \\quad \\forall j \\in N$"
   ]
  },
  {
   "cell_type": "code",
   "execution_count": 23,
   "metadata": {},
   "outputs": [],
   "source": [
    "if obj_select == \"L_max\":\n",
    "     \n",
    "    # L_max 선언\n",
    "    L_max = model_MIP_2.addVar(vtype=GRB.CONTINUOUS, lb = -M, name= \"L_max\") # L_max를 나타내는 연속형 변수   \n",
    "\n",
    "    # L_max 제약식\n",
    "    constraint2 = {(j): model_MIP_2.addConstr(L_max >= C[j] - d[j], name = f\"constraint2_{j}\") for j in J}\n",
    "\n",
    "    # 목적식\n",
    "    model_MIP_2.setObjective(L_max, GRB.MINIMIZE)"
   ]
  },
  {
   "cell_type": "markdown",
   "metadata": {},
   "source": [
    "#### To minimize the number of tardy jobs\n",
    "- $ Minimize \\ \\sum_{j \\in J}U_j$\n",
    "- $ C_j \\leq d_j + MU_j \\quad \\forall j \\in J$\n",
    "- $ U_j \\in \\{0, 1\\}$"
   ]
  },
  {
   "cell_type": "code",
   "execution_count": 24,
   "metadata": {},
   "outputs": [],
   "source": [
    "if obj_select == \"tj\":\n",
    "    \n",
    "    # 작업의 종료 시점을 나타내는 U_j 선언\n",
    "    U = {(j): model_MIP_2.addVar(vtype=GRB.BINARY, name = f\"U_{j}\") for j in J}\n",
    "\n",
    "    # U_j 제약식 추가\n",
    "    constraint2 = {(j): model_MIP_2.addConstr(C[j] <= d[j] + M*U[j], name = f\"constraint2_{j}\") for j in J}\n",
    "\n",
    "    # 목적식\n",
    "    model_MIP_2.setObjective(quicksum(U[j] for j in J), GRB.MINIMIZE)"
   ]
  },
  {
   "cell_type": "markdown",
   "metadata": {},
   "source": [
    "#### To minimize makespan\n",
    "- $ Minimize \\ C_{max} $\n",
    "- $ C_{max} \\geq C_j \\quad \\forall j \\in J $"
   ]
  },
  {
   "cell_type": "code",
   "execution_count": 25,
   "metadata": {},
   "outputs": [],
   "source": [
    "if obj_select == 'C_max':\n",
    "\n",
    "    # Makespan인 C_max 선언\n",
    "    C_max = model_MIP_2.addVar(vtype=GRB.CONTINUOUS, name= \"C_max\") # C_max를 나타내는 연속형 변수\n",
    "\n",
    "    # C_max 제약식\n",
    "    constraint2 = {(j): model_MIP_2.addConstr(C_max >= C[j], name = f\"constraint2_{j}\") for j in J}\n",
    "\n",
    "    # 목적식\n",
    "    model_MIP_2.setObjective(C_max, GRB.MINIMIZE)"
   ]
  },
  {
   "cell_type": "markdown",
   "metadata": {
    "id": "m-ilp_PlOJvX"
   },
   "source": [
    "## M3 - Assignment and positional date model formulation\n",
    "\n",
    "### Decision Variables\n",
    "- $u_{i,j,l}$: 머신 $i$에서, 작업 $j$가 position $l$에 있으면 1, 아니면 0인 이진변수, $u_{i,j,l} \\in \\{0, 1\\} \\ \\forall i \\in \\mu \\ \\forall j \\in J, \\forall l \\in J$\n",
    "- $\\gamma_{i,l}$: 머신 $i$에서, position $l$에 있는 작업의 종료 시점 의미\n",
    "- $C_j$: 작업 $j$의 종료 시점 의미\n"
   ]
  },
  {
   "cell_type": "code",
   "execution_count": 26,
   "metadata": {},
   "outputs": [],
   "source": [
    "model_MIP_3 = gp.Model(\"MIP_3\")\n",
    "\n",
    "# colab 경우\n",
    "# model_MIP_3 = gp.Model(\"MIP_3\", env = env) \n",
    "\n",
    "# Decision Variable 만들기\n",
    "u = {(i, j, l): model_MIP_3.addVar(vtype = GRB.BINARY, name = f\"u_{i+1}_{j+1}_{l+1}\") for i in Mu for j in J for l in J}\n",
    "gamma = {(i, l): model_MIP_3.addVar(vtype=GRB.CONTINUOUS, lb = 0, name=f\"gamma_{i+1}_{l+1}\") for i in Mu for l in J}\n",
    "C = {(j): model_MIP_3.addVar(vtype = GRB.CONTINUOUS, lb = 0, name = f\"C_{j+1}\") for j in J}"
   ]
  },
  {
   "cell_type": "markdown",
   "metadata": {
    "id": "NiqkCmkHOJvX"
   },
   "source": [
    "### 기본 constraint\n",
    "- $\\sum_{i \\in \\mu}\\sum_{l \\in J}u_{i,j,l} = 1 \\quad \\forall j \\in J$\n",
    "- $\\sum_{j \\in J} u_{i,j,l} \\leq 1 \\quad \\forall i \\in \\mu, \\forall l \\in J$\n",
    "- $\\gamma_{i, 0} \\geq \\sum_{j \\in J}p_j u_{i,j,0} \\quad \\forall i \\in \\mu$, 시작 index를 0으로 했기 때문\n",
    "- $\\gamma_{i, l} \\geq \\gamma_{i, l-1} + \\sum_{j \\in J}p_ju_{i,j,l} \\quad \\forall i \\in \\mu, \\forall l \\in J: \\ l \\geq 1 $\n",
    "- $C_j \\geq \\gamma_{i,l} - M(1 - \\mu_{i,j,l}) \\quad \\forall j \\in J, \\forall l \\in J, \\forall i \\in \\mu$\n",
    "### 추가 제약식 ($\\gamma$에서 poisition이 제대로 고정되지 않음)\n",
    "- $C_j \\leq \\gamma_{i,l} + M(1 - u_{i,j,l}) \\quad \\forall i \\in \\mu, \\forall j \\in J, \\forall l \\in J$ -> gamma의 값을 고정\n",
    "- $\\sum_{j \\in J}u_{i,j,l} \\leq \\sum_{j \\in J} u_{i,j,l-1} \\quad \\forall i \\in \\mu, \\forall l \\in J: \\ l \\geq 1$ -> 포지션 고정"
   ]
  },
  {
   "cell_type": "code",
   "execution_count": 27,
   "metadata": {},
   "outputs": [],
   "source": [
    "constraint3_1 = {(j): model_MIP_3.addConstr(quicksum(quicksum(u[i,j,l] for l in J) for i in Mu) == 1, name = f\"constraint3_1_{j}\") for j in J}\n",
    "constraint3_2 = {(i, l): model_MIP_3.addConstr(quicksum(u[i,j,l] for j in J) <= 1, name = f\"constraint3_2_{i}_{l}\") for i in Mu for l in J}\n",
    "constraint3_3 = {(i): model_MIP_3.addConstr(gamma[i, 0] >= quicksum(p[j] * u[i,j,0] for j in J), name = f\"constraint3_3_{i}\") for i in Mu}\n",
    "constraint3_4 = {(i, l): model_MIP_3.addConstr(gamma[i,l] >= gamma[i,l-1] + quicksum(p[j] * u[i,j,l] for j in J), name = f\"constraint3_4_{i}_{l}\") for i in Mu for l in J[1:]}\n",
    "constraint3_5 = {(i, j, l): model_MIP_3.addConstr(C[j] >= gamma[i, l] - M*(1 - u[i,j,l]), name = f\"constraint3_5_{i}_{j}_{l}\") for i in Mu for j in J for l in J}\n",
    "constraint3_6 = {(i, j, l): model_MIP_3.addConstr(C[j] <= gamma[i, l] + M*(1 - u[i,j,l]), name = f\"constraint3_6_{i}_{j}_{l}\") for i in Mu for j in J for l in J}\n",
    "constraint3_7 = {(i, l): model_MIP_3.addConstr(quicksum(u[i,j,l] for j in J) <= quicksum(u[i,j,l-1] for j in J), name = f\"constraint3_7_{i}_{l}\") for i in Mu for l in J[1:]}"
   ]
  },
  {
   "cell_type": "markdown",
   "metadata": {},
   "source": [
    "#### Release time 반영 제약식\n",
    "$ \\gamma_{i,l} \\geq \\sum_{j \\in J}(p_j + r_j)u_{i,j,l} \\quad \\forall i \\in \\mu \\forall j \\in J $"
   ]
  },
  {
   "cell_type": "code",
   "execution_count": 28,
   "metadata": {},
   "outputs": [],
   "source": [
    "if release_time == True:\n",
    "    constraint3_6 = {(i, l): model_MIP_3.addConstr(gamma[i, l] >= quicksum((p[j] + r[j]) * u[i,j,l] for j in J), name = f\"constraint3_6_{i}_{l}\") for i in Mu for l in J}"
   ]
  },
  {
   "cell_type": "markdown",
   "metadata": {},
   "source": [
    "#### To minimize the total weighted completion time\n",
    "- $ Minimize \\sum_{j \\in J} w_j C_j$"
   ]
  },
  {
   "cell_type": "code",
   "execution_count": 29,
   "metadata": {},
   "outputs": [],
   "source": [
    "if obj_select == \"wct\":\n",
    "\n",
    "    # 목적식\n",
    "    model_MIP_3.setObjective(quicksum(w[j] * C[j] for j in J), GRB.MINIMIZE)"
   ]
  },
  {
   "cell_type": "markdown",
   "metadata": {},
   "source": [
    "#### To minimize the total weighted tardiness\n",
    "\n",
    "- $ Minimize \\sum_{j \\in J} w_j T_j$\n",
    "- $ T_j \\geq C_j - d_j \\quad \\forall j \\in J $"
   ]
  },
  {
   "cell_type": "code",
   "execution_count": 30,
   "metadata": {},
   "outputs": [],
   "source": [
    "if obj_select == \"twt\":\n",
    "    \n",
    "    # 작업의 종료 시점을 나타내는 T_j 선언\n",
    "    T = {(j): model_MIP_3.addVar(vtype=GRB.CONTINUOUS, lb = 0, name = f\"T_{j}\") for j in J}\n",
    "\n",
    "    # T_j 제약식 추가\n",
    "    constraint3 = {(j): model_MIP_3.addConstr(T[j] >= C[j] - d[j], name = f\"constraint3_{j}\") for j in J}\n",
    "\n",
    "    # 목적식\n",
    "    model_MIP_3.setObjective(quicksum(w[j] * T[j] for j in J), GRB.MINIMIZE)"
   ]
  },
  {
   "cell_type": "markdown",
   "metadata": {},
   "source": [
    "#### To minimize $L_{max}$\n",
    "- $ Minimize \\ L_{max}$\n",
    "- $ L_{max} \\geq (C_j - d_j) \\quad \\forall j \\in N$"
   ]
  },
  {
   "cell_type": "code",
   "execution_count": 31,
   "metadata": {},
   "outputs": [],
   "source": [
    "if obj_select == \"L_max\":\n",
    "     \n",
    "    # L_max 선언\n",
    "    L_max = model_MIP_3.addVar(vtype=GRB.CONTINUOUS, lb = -M, name= \"L_max\") # L_max를 나타내는 연속형 변수   \n",
    "\n",
    "    # L_max 제약식\n",
    "    constraint3 = {(j): model_MIP_3.addConstr(L_max >= C[j] - d[j], name = f\"constraint3_{j}\") for j in J}\n",
    "\n",
    "    # 목적식\n",
    "    model_MIP_3.setObjective(L_max, GRB.MINIMIZE)"
   ]
  },
  {
   "cell_type": "markdown",
   "metadata": {},
   "source": [
    "#### To minimize the number of tardy jobs\n",
    "- $ Minimize \\ \\sum_{j \\in J}U_j$\n",
    "- $ C_j \\leq d_j + MU_j \\quad \\forall j \\in J$\n",
    "- $ U_j \\in \\{0, 1\\}$"
   ]
  },
  {
   "cell_type": "code",
   "execution_count": 32,
   "metadata": {},
   "outputs": [],
   "source": [
    "if obj_select == \"tj\":\n",
    "    \n",
    "    # 작업의 종료 시점을 나타내는 U_j 선언\n",
    "    U = {(j): model_MIP_3.addVar(vtype=GRB.BINARY, name = f\"U_{j}\") for j in J}\n",
    "\n",
    "    # U_j 제약식 추가\n",
    "    constraint3 = {(j): model_MIP_3.addConstr(C[j] <= d[j] + M*U[j], name = f\"constraint3_{j}\") for j in J}\n",
    "\n",
    "    # 목적식\n",
    "    model_MIP_3.setObjective(quicksum(U[j] for j in J), GRB.MINIMIZE)"
   ]
  },
  {
   "cell_type": "markdown",
   "metadata": {},
   "source": [
    "#### To minimize makespan\n",
    "- $ Minimize \\ C_{max} $\n",
    "- $ C_{max} \\geq C_j \\quad \\forall j \\in J $"
   ]
  },
  {
   "cell_type": "code",
   "execution_count": 33,
   "metadata": {},
   "outputs": [],
   "source": [
    "if obj_select == 'C_max':\n",
    "\n",
    "    # Makespan인 C_max 선언\n",
    "    C_max = model_MIP_3.addVar(vtype=GRB.CONTINUOUS, name= \"C_max\") # C_max를 나타내는 연속형 변수\n",
    "\n",
    "    # C_max 제약식\n",
    "    constraint3 = {(j): model_MIP_3.addConstr(C_max >= C[j], name = f\"constraint3_{j}\") for j in J}\n",
    "\n",
    "    # 목적식\n",
    "    model_MIP_3.setObjective(C_max, GRB.MINIMIZE)"
   ]
  },
  {
   "cell_type": "markdown",
   "metadata": {},
   "source": [
    "## M4 - Linear ordering model formulation"
   ]
  },
  {
   "cell_type": "markdown",
   "metadata": {},
   "source": [
    "### Decision Variables\n",
    "- $\\delta_{l,j}$: 작업 $l$가 작업 $j$보다 앞에서 시작하면 1, 아니면 0인 이진변수, $\\delta_{l,j} \\in \\{0, 1\\} \\ \\forall l \\in J, \\forall j \\in J$\n",
    "- $z_{l,i}$: 작업 $l$이 기계 $i$에 할당되면 1, 아니면 0인 이진변수, $z_{l,i} \\in \\{0, 1\\} \\quad \\forall l \\in J, \\forall i \\in \\mu $\n",
    "- $y_{l,j}$: 작업 $l$이 작업 $j$와 다른 기계에 있으면 1, 아니면 0인 이진변수, $ y_{l,j} \\in \\{0, 1\\} \\quad \\forall l \\in J, \\forall j \\in J$"
   ]
  },
  {
   "cell_type": "code",
   "execution_count": 34,
   "metadata": {},
   "outputs": [],
   "source": [
    "model_MIP_4 = gp.Model(\"MIP_4\")\n",
    "\n",
    "# colab 경우\n",
    "# model_MIP_4 = gp.Model(\"MIP_4\", env = env) \n",
    "\n",
    "# Decision Variable 만들기\n",
    "delta = {(l, j): model_MIP_4.addVar(vtype = GRB.BINARY, name = f\"delta_{l+1}_{j+1}\") for l in J for j in J}\n",
    "z = {(l, i): model_MIP_4.addVar(vtype = GRB.BINARY, name = f\"z_{l+1}_{i+1}\") for l in J for i in Mu}\n",
    "y = {(l, j): model_MIP_4.addVar(vtype = GRB.BINARY, name = f\"y_{l+1}_{j+1}\") for l in J for j in J}\n",
    "C = {(j): model_MIP_4.addVar(vtype = GRB.CONTINUOUS, lb = 0, name = f\"C_{j+1}\") for j in J}"
   ]
  },
  {
   "cell_type": "markdown",
   "metadata": {
    "id": "iXANaEPqOJvW"
   },
   "source": [
    "### 기본 constraint\n",
    "- $\\delta_{l,j} + \\delta_{j,l} + y_{l,j} = 1 \\quad \\forall l \\in J, \\forall j \\in J, l < j$\n",
    "- $\\delta_{l,j} + \\delta_{j,k} + \\delta_{k,l} \\leq 2 \\quad \\forall l,j,k \\in J, l < j < k $\n",
    "- $z_{l,i} + z_{j,i} + y_{l,j} \\leq 2 \\quad \\forall l \\in J, \\forall j \\in J, l < j, \\forall i \\in \\mu$\n",
    "- $\\sum_{i \\in \\mu}z_{l,i} = 1 \\quad \\forall l \\in J$\n",
    "- $C_j \\geq p_jz_{j,i} \\quad \\forall j \\in J, \\forall i \\in \\mu$\n",
    "- $C_j \\geq C_l + p_j(\\delta_{l,j} + z_{l,i} + z_{j,i} - 2) - M(1 - \\delta_{l,j}) \\quad \\forall l \\in J, \\forall j \\in J, \\forall i \\in \\mu$"
   ]
  },
  {
   "cell_type": "code",
   "execution_count": 35,
   "metadata": {},
   "outputs": [],
   "source": [
    "constraint4_1 = {(l, j): model_MIP_4.addConstr(delta[l,j] + delta[j,l] + y[l,j] == 1, name = f\"constraint4_1_{l}_{j}\") for l in J for j in J if l < j}\n",
    "constraint4_2 = {(l, j, k): model_MIP_4.addConstr(delta[l,j] + delta[j,k] + delta[k,l] <= 2, name = f\"constraint4_2_{l}_{j}_{k}\") for l in J for j in J for k in J if l < j < k}\n",
    "constraint4_3 = {(i, l, j): model_MIP_4.addConstr(z[l,i] + z[j,i] + y[l,j] <= 2, name = f\"constraint4_3_{i}_{l}_{j}\") for i in Mu for l in J for j in J if l < j}\n",
    "constraint4_4 = {(l): model_MIP_4.addConstr(quicksum(z[l,i] for i in Mu) == 1, name = f\"constraint4_4_{l}\") for l in J}\n",
    "constraint4_5 = {(i, j): model_MIP_4.addConstr(C[j] >= p[j]*z[j,i], name = f\"constraint4_5_{i}_{j}\") for i in Mu for j in J}\n",
    "constraint4_6 = {(i, l, j): model_MIP_4.addConstr(C[j] >= C[l] + p[j]*(delta[l,j] + z[l,i] +z[j,i] - 2) - M*(1-delta[l,j]), name = f\"constraint4_6_{i}_{l}_{j}\") for i in Mu for l in J for j in J}"
   ]
  },
  {
   "cell_type": "markdown",
   "metadata": {
    "id": "S7GBrjtQOJvW"
   },
   "source": [
    "#### Release time 반영 제약식\n",
    "$C_j \\geq r_j + p_jz_{j,i} \\quad \\forall j \\in J, \\forall i \\in \\mu$"
   ]
  },
  {
   "cell_type": "code",
   "execution_count": 36,
   "metadata": {
    "executionInfo": {
     "elapsed": 1,
     "status": "ok",
     "timestamp": 1748257061422,
     "user": {
      "displayName": "Joonmo Sung",
      "userId": "09164233393338433441"
     },
     "user_tz": -540
    },
    "id": "vLSAu_LdOJvW"
   },
   "outputs": [],
   "source": [
    "if release_time == True:\n",
    "\n",
    "    constraint4_7 = {(i, j): model_MIP_4.addConstr(C[j] >= r[j] + p[j]*z[j,i], name = f\"constraint4_7_{i}_{j}\") for i in Mu for j in J}"
   ]
  },
  {
   "cell_type": "markdown",
   "metadata": {
    "id": "-jCd-w0COJvX"
   },
   "source": [
    "#### To minimize the total weighted completion time\n",
    "- $ Minimize \\sum_{j \\in J} w_j C_j$"
   ]
  },
  {
   "cell_type": "code",
   "execution_count": 37,
   "metadata": {},
   "outputs": [],
   "source": [
    "if obj_select == \"wct\":\n",
    "\n",
    "    # 목적식\n",
    "    model_MIP_4.setObjective(quicksum(w[j] * C[j] for j in J), GRB.MINIMIZE)"
   ]
  },
  {
   "cell_type": "markdown",
   "metadata": {},
   "source": [
    "#### To minimize the total weighted tardiness\n",
    "\n",
    "- $ Minimize \\sum_{j \\in J} w_j T_j$\n",
    "- $ T_j \\geq C_j - d_j \\quad \\forall j \\in J $"
   ]
  },
  {
   "cell_type": "code",
   "execution_count": 38,
   "metadata": {},
   "outputs": [],
   "source": [
    "if obj_select == \"twt\":\n",
    "    \n",
    "    # 작업의 종료 시점을 나타내는 T_j 선언\n",
    "    T = {(j): model_MIP_4.addVar(vtype=GRB.CONTINUOUS, lb = 0, name = f\"T_{j}\") for j in J}\n",
    "\n",
    "    # T_j 제약식 추가\n",
    "    constraint4 = {(j): model_MIP_4.addConstr(T[j] >= C[j] - d[j], name = f\"constraint4_{j}\") for j in J}\n",
    "\n",
    "    # 목적식\n",
    "    model_MIP_4.setObjective(quicksum(w[j] * T[j] for j in J), GRB.MINIMIZE)"
   ]
  },
  {
   "cell_type": "markdown",
   "metadata": {},
   "source": [
    "#### To minimize $L_{max}$\n",
    "- $ Minimize \\ L_{max}$\n",
    "- $ L_{max} \\geq (C_j - d_j) \\quad \\forall j \\in N$"
   ]
  },
  {
   "cell_type": "code",
   "execution_count": 39,
   "metadata": {},
   "outputs": [],
   "source": [
    "if obj_select == \"L_max\":\n",
    "     \n",
    "    # L_max 선언\n",
    "    L_max = model_MIP_4.addVar(vtype=GRB.CONTINUOUS, lb = -M, name= \"L_max\") # L_max를 나타내는 연속형 변수   \n",
    "\n",
    "    # L_max 제약식\n",
    "    constraint4 = {(j): model_MIP_4.addConstr(L_max >= C[j] - d[j], name = f\"constraint4_{j}\") for j in J}\n",
    "\n",
    "    # 목적식\n",
    "    model_MIP_4.setObjective(L_max, GRB.MINIMIZE)"
   ]
  },
  {
   "cell_type": "markdown",
   "metadata": {},
   "source": [
    "#### To minimize the number of tardy jobs\n",
    "- $ Minimize \\ \\sum_{j \\in J}U_j$\n",
    "- $ C_j \\leq d_j + MU_j \\quad \\forall j \\in J$\n",
    "- $ U_j \\in \\{0, 1\\}$"
   ]
  },
  {
   "cell_type": "code",
   "execution_count": 40,
   "metadata": {},
   "outputs": [],
   "source": [
    "if obj_select == \"tj\":\n",
    "    \n",
    "    # 작업의 종료 시점을 나타내는 U_j 선언\n",
    "    U = {(j): model_MIP_4.addVar(vtype=GRB.BINARY, name = f\"U_{j}\") for j in J}\n",
    "\n",
    "    # U_j 제약식 추가\n",
    "    constraint4 = {(j): model_MIP_4.addConstr(C[j] <= d[j] + M*U[j], name = f\"constraint4_{j}\") for j in J}\n",
    "\n",
    "    # 목적식\n",
    "    model_MIP_4.setObjective(quicksum(U[j] for j in J), GRB.MINIMIZE)"
   ]
  },
  {
   "cell_type": "markdown",
   "metadata": {},
   "source": [
    "#### To minimize makespan\n",
    "- $ Minimize \\ C_{max} $\n",
    "- $ C_{max} \\geq C_j \\quad \\forall j \\in J $"
   ]
  },
  {
   "cell_type": "code",
   "execution_count": 41,
   "metadata": {},
   "outputs": [],
   "source": [
    "if obj_select == 'C_max':\n",
    "\n",
    "    # Makespan인 C_max 선언\n",
    "    C_max = model_MIP_4.addVar(vtype=GRB.CONTINUOUS, name= \"C_max\") # C_max를 나타내는 연속형 변수\n",
    "\n",
    "    # C_max 제약식\n",
    "    constraint4 = {(j): model_MIP_4.addConstr(C_max >= C[j], name = f\"constraint4_{j}\") for j in J}\n",
    "\n",
    "    # 목적식\n",
    "    model_MIP_4.setObjective(C_max, GRB.MINIMIZE)"
   ]
  },
  {
   "cell_type": "code",
   "execution_count": 42,
   "metadata": {
    "colab": {
     "base_uri": "https://localhost:8080/",
     "height": 1000
    },
    "executionInfo": {
     "elapsed": 12552,
     "status": "error",
     "timestamp": 1748257074069,
     "user": {
      "displayName": "Joonmo Sung",
      "userId": "09164233393338433441"
     },
     "user_tz": -540
    },
    "id": "LJQC5EacOJvY",
    "outputId": "1cd4785a-3d50-4f41-9210-c1b788b4d74d"
   },
   "outputs": [
    {
     "name": "stdout",
     "output_type": "stream",
     "text": [
      "------------------------------ MIP 1 ------------------------------\n",
      "Gurobi Optimizer version 12.0.0 build v12.0.0rc1 (win64 - Windows 11.0 (26100.2))\n",
      "\n",
      "CPU model: 11th Gen Intel(R) Core(TM) i5-1135G7 @ 2.40GHz, instruction set [SSE2|AVX|AVX2|AVX512]\n",
      "Thread count: 4 physical cores, 8 logical processors, using up to 8 threads\n",
      "\n",
      "Optimize a model with 149 rows, 720 columns and 7260 nonzeros\n",
      "Model fingerprint: 0x6146de9a\n",
      "Variable types: 0 continuous, 720 integer (720 binary)\n",
      "Coefficient statistics:\n",
      "  Matrix range     [1e+00, 1e+00]\n",
      "  Objective range  [0e+00, 0e+00]\n",
      "  Bounds range     [1e+00, 1e+00]\n",
      "  RHS range        [1e+00, 1e+00]\n",
      "Found heuristic solution: objective 0.0000000\n",
      "\n",
      "Explored 0 nodes (0 simplex iterations) in 0.01 seconds (0.00 work units)\n",
      "Thread count was 1 (of 8 available processors)\n",
      "\n",
      "Solution count 1: 0 \n",
      "\n",
      "Optimal solution found (tolerance 1.00e-04)\n",
      "Best objective 0.000000000000e+00, best bound 0.000000000000e+00, gap 0.0000%\n",
      "------------------------------ MIP 2 ------------------------------\n",
      "Gurobi Optimizer version 12.0.0 build v12.0.0rc1 (win64 - Windows 11.0 (26100.2))\n",
      "\n",
      "CPU model: 11th Gen Intel(R) Core(TM) i5-1135G7 @ 2.40GHz, instruction set [SSE2|AVX|AVX2|AVX512]\n",
      "Thread count: 4 physical cores, 8 logical processors, using up to 8 threads\n",
      "\n",
      "Optimize a model with 74 rows, 78 columns and 370 nonzeros\n",
      "Model fingerprint: 0x2a746756\n",
      "Variable types: 6 continuous, 72 integer (72 binary)\n",
      "Coefficient statistics:\n",
      "  Matrix range     [1e+00, 2e+02]\n",
      "  Objective range  [0e+00, 0e+00]\n",
      "  Bounds range     [1e+00, 1e+00]\n",
      "  RHS range        [1e+00, 2e+02]\n",
      "Found heuristic solution: objective 0.0000000\n",
      "\n",
      "Explored 0 nodes (0 simplex iterations) in 0.01 seconds (0.00 work units)\n",
      "Thread count was 1 (of 8 available processors)\n",
      "\n",
      "Solution count 1: 0 \n",
      "\n",
      "Optimal solution found (tolerance 1.00e-04)\n",
      "Best objective 0.000000000000e+00, best bound 0.000000000000e+00, gap 0.0000%\n",
      "------------------------------ MIP 3 ------------------------------\n",
      "Gurobi Optimizer version 12.0.0 build v12.0.0rc1 (win64 - Windows 11.0 (26100.2))\n",
      "\n",
      "CPU model: 11th Gen Intel(R) Core(TM) i5-1135G7 @ 2.40GHz, instruction set [SSE2|AVX|AVX2|AVX512]\n",
      "Thread count: 4 physical cores, 8 logical processors, using up to 8 threads\n",
      "\n",
      "Optimize a model with 133 rows, 65 columns and 548 nonzeros\n",
      "Model fingerprint: 0xbbb4083b\n",
      "Variable types: 15 continuous, 50 integer (50 binary)\n",
      "Coefficient statistics:\n",
      "  Matrix range     [1e+00, 2e+02]\n",
      "  Objective range  [0e+00, 0e+00]\n",
      "  Bounds range     [1e+00, 1e+00]\n",
      "  RHS range        [1e+00, 2e+02]\n",
      "Presolve time: 0.00s\n",
      "Presolved: 133 rows, 65 columns, 548 nonzeros\n",
      "Variable types: 15 continuous, 50 integer (50 binary)\n",
      "Found heuristic solution: objective 0.0000000\n",
      "\n",
      "Explored 0 nodes (0 simplex iterations) in 0.01 seconds (0.00 work units)\n",
      "Thread count was 8 (of 8 available processors)\n",
      "\n",
      "Solution count 1: 0 \n",
      "\n",
      "Optimal solution found (tolerance 1.00e-04)\n",
      "Best objective 0.000000000000e+00, best bound 0.000000000000e+00, gap 0.0000%\n",
      "------------------------------ MIP 4 ------------------------------\n",
      "Gurobi Optimizer version 12.0.0 build v12.0.0rc1 (win64 - Windows 11.0 (26100.2))\n",
      "\n",
      "CPU model: 11th Gen Intel(R) Core(TM) i5-1135G7 @ 2.40GHz, instruction set [SSE2|AVX|AVX2|AVX512]\n",
      "Thread count: 4 physical cores, 8 logical processors, using up to 8 threads\n",
      "\n",
      "Optimize a model with 105 rows, 65 columns and 370 nonzeros\n",
      "Model fingerprint: 0x4d5b5bbd\n",
      "Variable types: 5 continuous, 60 integer (60 binary)\n",
      "Coefficient statistics:\n",
      "  Matrix range     [1e+00, 2e+02]\n",
      "  Objective range  [0e+00, 0e+00]\n",
      "  Bounds range     [1e+00, 1e+00]\n",
      "  RHS range        [1e+00, 3e+02]\n",
      "Found heuristic solution: objective 0.0000000\n",
      "\n",
      "Explored 0 nodes (0 simplex iterations) in 0.00 seconds (0.00 work units)\n",
      "Thread count was 1 (of 8 available processors)\n",
      "\n",
      "Solution count 1: 0 \n",
      "\n",
      "Optimal solution found (tolerance 1.00e-04)\n",
      "Best objective 0.000000000000e+00, best bound 0.000000000000e+00, gap 0.0000%\n"
     ]
    }
   ],
   "source": [
    "print(\"-\"*30, \"MIP 1\", \"-\" *30)\n",
    "model_MIP_1.optimize()\n",
    "print(\"-\"*30, \"MIP 2\", \"-\" *30)\n",
    "model_MIP_2.optimize()\n",
    "print(\"-\"*30, \"MIP 3\", \"-\" *30)\n",
    "model_MIP_3.optimize()\n",
    "print(\"-\"*30, \"MIP 4\", \"-\" *30)\n",
    "model_MIP_4.optimize()"
   ]
  },
  {
   "cell_type": "code",
   "execution_count": 43,
   "metadata": {
    "executionInfo": {
     "elapsed": 14399,
     "status": "aborted",
     "timestamp": 1748257074107,
     "user": {
      "displayName": "Joonmo Sung",
      "userId": "09164233393338433441"
     },
     "user_tz": -540
    },
    "id": "3zXeGfDHOJvY"
   },
   "outputs": [
    {
     "name": "stdout",
     "output_type": "stream",
     "text": [
      "0.0\n",
      "0.0\n",
      "0.0\n",
      "0.0\n"
     ]
    }
   ],
   "source": [
    "# 목적식 value\n",
    "print(model_MIP_1.ObjVal)\n",
    "print(model_MIP_2.ObjVal)\n",
    "print(model_MIP_3.ObjVal)\n",
    "print(model_MIP_4.ObjVal)"
   ]
  },
  {
   "cell_type": "code",
   "execution_count": 44,
   "metadata": {
    "executionInfo": {
     "elapsed": 14399,
     "status": "aborted",
     "timestamp": 1748257074108,
     "user": {
      "displayName": "Joonmo Sung",
      "userId": "09164233393338433441"
     },
     "user_tz": -540
    },
    "id": "0jcdwjNKOJvY"
   },
   "outputs": [
    {
     "name": "stdout",
     "output_type": "stream",
     "text": [
      "0.008\n",
      "0.008\n",
      "0.008\n",
      "0.008\n"
     ]
    }
   ],
   "source": [
    "# 문제 푸는 데 걸린 시간\n",
    "print(round(model_MIP_1.RunTime, 3))\n",
    "print(round(model_MIP_2.RunTime, 3))\n",
    "print(round(model_MIP_3.RunTime, 3))\n",
    "print(round(model_MIP_4.RunTime, 3))"
   ]
  },
  {
   "cell_type": "code",
   "execution_count": 45,
   "metadata": {
    "executionInfo": {
     "elapsed": 1,
     "status": "aborted",
     "timestamp": 1748257074144,
     "user": {
      "displayName": "Joonmo Sung",
      "userId": "09164233393338433441"
     },
     "user_tz": -540
    },
    "id": "7JQerDcTOJvY"
   },
   "outputs": [
    {
     "name": "stdout",
     "output_type": "stream",
     "text": [
      "x_1_3_42 1.0\n",
      "x_1_4_58 1.0\n",
      "x_1_5_13 1.0\n",
      "x_2_1_18 1.0\n",
      "x_2_2_38 1.0\n",
      "Objective value: 0.0\n"
     ]
    }
   ],
   "source": [
    "# Objective solution 출력 과정\n",
    "for v in model_MIP_1.getVars():\n",
    "    if v.x > 1e-6:\n",
    "        print(v.varName, v.x)\n",
    "\n",
    "print(\"Objective value:\", model_MIP_1.objVal)"
   ]
  },
  {
   "cell_type": "code",
   "execution_count": 46,
   "metadata": {},
   "outputs": [
    {
     "data": {
      "image/png": "[encoded data removed]",
      "text/plain": [
       "<Figure size 1000x500 with 1 Axes>"
      ]
     },
     "metadata": {},
     "output_type": "display_data"
    }
   ],
   "source": [
    "Gantt_Chart.M1_gurobi_gantt(model_MIP_1, p, J, m)"
   ]
  },
  {
   "cell_type": "code",
   "execution_count": 47,
   "metadata": {
    "executionInfo": {
     "elapsed": 2,
     "status": "aborted",
     "timestamp": 1748257074145,
     "user": {
      "displayName": "Joonmo Sung",
      "userId": "09164233393338433441"
     },
     "user_tz": -540
    },
    "id": "WOWqIv5hOJvY"
   },
   "outputs": [
    {
     "name": "stdout",
     "output_type": "stream",
     "text": [
      "x_1_0_0 1.0\n",
      "x_1_0_3 1.0\n",
      "x_1_1_1 1.0\n",
      "x_1_2_0 1.0\n",
      "x_1_2_2 1.0\n",
      "x_1_3_2 1.0\n",
      "x_1_3_3 1.0\n",
      "x_1_4_4 1.0\n",
      "x_1_5_5 1.0\n",
      "x_2_0_0 1.0\n",
      "x_2_0_4 1.0\n",
      "x_2_1_0 1.0\n",
      "x_2_1_1 1.0\n",
      "x_2_2_2 1.0\n",
      "x_2_3_3 1.0\n",
      "x_2_4_4 1.0\n",
      "x_2_4_5 1.0\n",
      "x_2_5_1 1.0\n",
      "x_2_5_5 1.0\n",
      "C_1 25.0\n",
      "C_2 40.0\n",
      "C_3 12.0\n",
      "C_4 15.0\n",
      "C_5 24.0\n",
      "Objective value: 0.0\n"
     ]
    }
   ],
   "source": [
    "# Objective solution 출력 과정\n",
    "for v in model_MIP_2.getVars():\n",
    "    if v.x > 1e-6:\n",
    "        print(v.varName, v.x)\n",
    "\n",
    "print(\"Objective value:\", model_MIP_2.objVal)"
   ]
  },
  {
   "cell_type": "code",
   "execution_count": 48,
   "metadata": {},
   "outputs": [
    {
     "data": {
      "image/png": "[encoded data removed]",
      "text/plain": [
       "<Figure size 1000x500 with 1 Axes>"
      ]
     },
     "metadata": {},
     "output_type": "display_data"
    }
   ],
   "source": [
    "Gantt_Chart.M2_gurobi_gantt(model_MIP_2, p, J, m)"
   ]
  },
  {
   "cell_type": "code",
   "execution_count": 49,
   "metadata": {
    "executionInfo": {
     "elapsed": 2,
     "status": "aborted",
     "timestamp": 1748257074146,
     "user": {
      "displayName": "Joonmo Sung",
      "userId": "09164233393338433441"
     },
     "user_tz": -540
    },
    "id": "dUTc-JmEOJvY"
   },
   "outputs": [
    {
     "name": "stdout",
     "output_type": "stream",
     "text": [
      "u_1_1_5 1.0\n",
      "u_1_2_4 1.0\n",
      "u_1_3_3 1.0\n",
      "u_1_4_2 1.0\n",
      "u_1_5_1 1.0\n",
      "gamma_1_1 9.0\n",
      "gamma_1_2 22.0\n",
      "gamma_1_3 34.0\n",
      "gamma_1_4 49.0\n",
      "gamma_1_5 50.0\n",
      "C_1 50.0\n",
      "C_2 49.0\n",
      "C_3 34.0\n",
      "C_4 22.0\n",
      "C_5 9.0\n",
      "Objective value: 0.0\n"
     ]
    }
   ],
   "source": [
    "# Objective solution 출력 과정\n",
    "for v in model_MIP_3.getVars():\n",
    "    if v.x > 1e-6:\n",
    "        print(v.varName, v.x)\n",
    "\n",
    "print(\"Objective value:\", model_MIP_3.objVal)"
   ]
  },
  {
   "cell_type": "code",
   "execution_count": 50,
   "metadata": {},
   "outputs": [
    {
     "data": {
      "image/png": "[encoded data removed]",
      "text/plain": [
       "<Figure size 1000x500 with 1 Axes>"
      ]
     },
     "metadata": {},
     "output_type": "display_data"
    }
   ],
   "source": [
    "Gantt_Chart.M3_gurobi_gantt(model_MIP_3, p, J, m)"
   ]
  },
  {
   "cell_type": "code",
   "execution_count": 51,
   "metadata": {
    "executionInfo": {
     "elapsed": 2,
     "status": "aborted",
     "timestamp": 1748257074146,
     "user": {
      "displayName": "Joonmo Sung",
      "userId": "09164233393338433441"
     },
     "user_tz": -540
    },
    "id": "hbeRmVxoOJvY"
   },
   "outputs": [
    {
     "name": "stdout",
     "output_type": "stream",
     "text": [
      "delta_1_2 1.0\n",
      "delta_1_3 1.0\n",
      "delta_2_3 1.0\n",
      "delta_5_4 1.0\n",
      "z_1_2 1.0\n",
      "z_2_2 1.0\n",
      "z_3_2 1.0\n",
      "z_4_1 1.0\n",
      "z_5_1 1.0\n",
      "y_1_1 1.0\n",
      "y_1_4 1.0\n",
      "y_1_5 1.0\n",
      "y_2_1 1.0\n",
      "y_2_2 1.0\n",
      "y_2_4 1.0\n",
      "y_2_5 1.0\n",
      "y_3_1 1.0\n",
      "y_3_2 1.0\n",
      "y_3_3 1.0\n",
      "y_3_4 1.0\n",
      "y_3_5 1.0\n",
      "y_4_1 1.0\n",
      "y_4_2 1.0\n",
      "y_4_3 1.0\n",
      "y_4_4 1.0\n",
      "y_5_1 1.0\n",
      "y_5_2 1.0\n",
      "y_5_3 1.0\n",
      "y_5_4 1.0\n",
      "y_5_5 1.0\n",
      "C_1 1.0\n",
      "C_2 16.0\n",
      "C_3 28.0\n",
      "C_4 22.0\n",
      "C_5 9.0\n",
      "Objective value: 0.0\n"
     ]
    }
   ],
   "source": [
    "# Objective solution 출력 과정\n",
    "for v in model_MIP_4.getVars():\n",
    "    if v.x > 1e-6:\n",
    "        print(v.varName, v.x)\n",
    "\n",
    "print(\"Objective value:\", model_MIP_4.objVal)"
   ]
  },
  {
   "cell_type": "code",
   "execution_count": 52,
   "metadata": {},
   "outputs": [
    {
     "data": {
      "image/png": "[encoded data removed]",
      "text/plain": [
       "<Figure size 1000x500 with 1 Axes>"
      ]
     },
     "metadata": {},
     "output_type": "display_data"
    }
   ],
   "source": [
    "Gantt_Chart.M4_gurobi_gantt(model_MIP_4, p, J, m)"
   ]
  },
  {
   "cell_type": "code",
   "execution_count": null,
   "metadata": {},
   "outputs": [],
   "source": []
  }
 ],
 "metadata": {
  "colab": {
   "provenance": []
  },
  "kernelspec": {
   "display_name": "Python 3",
   "language": "python",
   "name": "python3"
  },
  "language_info": {
   "codemirror_mode": {
    "name": "ipython",
    "version": 3
   },
   "file_extension": ".py",
   "mimetype": "text/x-python",
   "name": "python",
   "nbconvert_exporter": "python",
   "pygments_lexer": "ipython3",
   "version": "3.11.9"
  },
  "orig_nbformat": 4
 },
 "nbformat": 4,
 "nbformat_minor": 0
}
