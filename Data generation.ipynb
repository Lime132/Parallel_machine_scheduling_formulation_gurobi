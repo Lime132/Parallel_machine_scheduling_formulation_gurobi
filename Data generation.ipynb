{
 "cells": [
  {
   "cell_type": "code",
   "execution_count": 1,
   "id": "d7c60fc7",
   "metadata": {
    "executionInfo": {
     "elapsed": 1002,
     "status": "ok",
     "timestamp": 1748257323902,
     "user": {
      "displayName": "Joonmo Sung",
      "userId": "09164233393338433441"
     },
     "user_tz": -540
    },
    "id": "d7c60fc7"
   },
   "outputs": [],
   "source": [
    "import numpy as np\n",
    "import pandas as pd"
   ]
  },
  {
   "cell_type": "markdown",
   "id": "b6f75fa0",
   "metadata": {},
   "source": [
    "# 저자\n",
    "\n",
    "- TA: 성준모 (Joonmo Sung)\n",
    "- SYSTEMS MODELING AND PROGRAMMING LAB DEPARTMENT OF INDUSTRIAL ENGINEERING, YONSEI UNIVERSITY - SYMPLY\n",
    "- 문의: `sjm21314@naver.com`,`sjm21314@yonsei.ac.kr`\n",
    "***\n",
    "본 강의자료는 는 Unlu, Y., & Mason, S. J. (2010). Evaluation of mixed integer programming formulations\n",
    "for non-preemptive parallel machine scheduling problems. Computers & Industrial Engineering,\n",
    "58(4), 785-800 논문을 바탕으로 제작되었으며,\n",
    "\n",
    "반도체데이터사이언스 협동과정 수업 용도 이외의 목적으로 저자의 허락 없이 다른 사람들과 공유할 수 없습니다."
   ]
  },
  {
   "cell_type": "code",
   "execution_count": 2,
   "id": "c2bdd5b7",
   "metadata": {
    "executionInfo": {
     "elapsed": 23,
     "status": "ok",
     "timestamp": 1748257323947,
     "user": {
      "displayName": "Joonmo Sung",
      "userId": "09164233393338433441"
     },
     "user_tz": -540
    },
    "id": "c2bdd5b7"
   },
   "outputs": [],
   "source": [
    "# random seed를 정해줌. 고정시 계속 같은 data가 만들어짐\n",
    "np.random.seed(917)\n",
    "\n",
    "n = 5  # 작업 개수"
   ]
  },
  {
   "cell_type": "code",
   "execution_count": 3,
   "id": "645f3456",
   "metadata": {
    "executionInfo": {
     "elapsed": 50,
     "status": "ok",
     "timestamp": 1748257324076,
     "user": {
      "displayName": "Joonmo Sung",
      "userId": "09164233393338433441"
     },
     "user_tz": -540
    },
    "id": "645f3456"
   },
   "outputs": [],
   "source": [
    "# p_max, alpha는 임의로 고정\n",
    "p_max = 20 # {20, 100} 중 하나 선택\n",
    "alpha = 1 # {0, 1} 중 하나 선택, alpha = 0은 release time 없는 데이터\n",
    "\n",
    "# Random generation 코드\n",
    "p = np.random.randint(1, p_max+1, size=n) # processing time은 [1, p_max] uniform 분포 따름\n",
    "w = np.random.randint(1, 11, size=n) # weight은 [1, 10] uniform 분포 따름\n",
    "r = np.random.randint(0, int((alpha/2) * sum(p)) + 1, size=n) # [0, alpha/2*sum(p)] 분포를 따름\n",
    "# d_j에 대한 데이터 generation 언급 없음. single machine의 기준을 그대로 사용하고자 함.\n",
    "\n",
    "# L, R은 임의로 고름\n",
    "L = 0.5 # {0.5, 0.7} 중 하나를 고르면 됨. release 데이터에서는 0.5로 고정\n",
    "R = 0.8 # {0.4, 0.8, 1.4} 중 하나를 고르면 됨\n",
    "d = np.random.randint(int(sum(p)*(L-R/2)), int(sum(p)*(L+R/2)) + 1, size = n) # [P(L - R/2), P(L + R/2)] 분포를 따름"
   ]
  },
  {
   "cell_type": "code",
   "execution_count": 4,
   "id": "23e4ab0c",
   "metadata": {
    "executionInfo": {
     "elapsed": 10,
     "status": "ok",
     "timestamp": 1748257324087,
     "user": {
      "displayName": "Joonmo Sung",
      "userId": "09164233393338433441"
     },
     "user_tz": -540
    },
    "id": "23e4ab0c"
   },
   "outputs": [],
   "source": [
    "# data 정보 저장한 dataframe 생성\n",
    "df = pd.DataFrame({\n",
    "    'N': np.arange(0, n),\n",
    "    'p': p,\n",
    "    'w': w,\n",
    "    'd': d,\n",
    "    'r': r\n",
    "})"
   ]
  },
  {
   "cell_type": "code",
   "execution_count": 5,
   "id": "e6da9d9d",
   "metadata": {
    "colab": {
     "base_uri": "https://localhost:8080/",
     "height": 363
    },
    "executionInfo": {
     "elapsed": 93,
     "status": "ok",
     "timestamp": 1748257324181,
     "user": {
      "displayName": "Joonmo Sung",
      "userId": "09164233393338433441"
     },
     "user_tz": -540
    },
    "id": "e6da9d9d",
    "outputId": "6f1cf196-401b-4980-f654-19004c368edf"
   },
   "outputs": [
    {
     "data": {
      "text/html": [
       "<div>\n",
       "<style scoped>\n",
       "    .dataframe tbody tr th:only-of-type {\n",
       "        vertical-align: middle;\n",
       "    }\n",
       "\n",
       "    .dataframe tbody tr th {\n",
       "        vertical-align: top;\n",
       "    }\n",
       "\n",
       "    .dataframe thead th {\n",
       "        text-align: right;\n",
       "    }\n",
       "</style>\n",
       "<table border=\"1\" class=\"dataframe\">\n",
       "  <thead>\n",
       "    <tr style=\"text-align: right;\">\n",
       "      <th></th>\n",
       "      <th>N</th>\n",
       "      <th>p</th>\n",
       "      <th>w</th>\n",
       "      <th>d</th>\n",
       "      <th>r</th>\n",
       "    </tr>\n",
       "  </thead>\n",
       "  <tbody>\n",
       "    <tr>\n",
       "      <th>0</th>\n",
       "      <td>0</td>\n",
       "      <td>1</td>\n",
       "      <td>6</td>\n",
       "      <td>30</td>\n",
       "      <td>22</td>\n",
       "    </tr>\n",
       "    <tr>\n",
       "      <th>1</th>\n",
       "      <td>1</td>\n",
       "      <td>15</td>\n",
       "      <td>3</td>\n",
       "      <td>5</td>\n",
       "      <td>16</td>\n",
       "    </tr>\n",
       "    <tr>\n",
       "      <th>2</th>\n",
       "      <td>2</td>\n",
       "      <td>12</td>\n",
       "      <td>2</td>\n",
       "      <td>15</td>\n",
       "      <td>15</td>\n",
       "    </tr>\n",
       "    <tr>\n",
       "      <th>3</th>\n",
       "      <td>3</td>\n",
       "      <td>13</td>\n",
       "      <td>5</td>\n",
       "      <td>22</td>\n",
       "      <td>4</td>\n",
       "    </tr>\n",
       "    <tr>\n",
       "      <th>4</th>\n",
       "      <td>4</td>\n",
       "      <td>9</td>\n",
       "      <td>2</td>\n",
       "      <td>40</td>\n",
       "      <td>10</td>\n",
       "    </tr>\n",
       "  </tbody>\n",
       "</table>\n",
       "</div>"
      ],
      "text/plain": [
       "   N   p  w   d   r\n",
       "0  0   1  6  30  22\n",
       "1  1  15  3   5  16\n",
       "2  2  12  2  15  15\n",
       "3  3  13  5  22   4\n",
       "4  4   9  2  40  10"
      ]
     },
     "execution_count": 5,
     "metadata": {},
     "output_type": "execute_result"
    }
   ],
   "source": [
    "df"
   ]
  },
  {
   "cell_type": "code",
   "execution_count": 6,
   "id": "72dd987a",
   "metadata": {
    "executionInfo": {
     "elapsed": 1250,
     "status": "ok",
     "timestamp": 1748257333460,
     "user": {
      "displayName": "Joonmo Sung",
      "userId": "09164233393338433441"
     },
     "user_tz": -540
    },
    "id": "72dd987a"
   },
   "outputs": [],
   "source": [
    "# 데이터 사용 방법\n",
    "# 1. 위 코드로 데이터 생성 후 바로 cvxpy or gurobi code 만들기\n",
    "\n",
    "# 2. 위 데이터 저장 후 다른 파일에서 불러온 후 사용\n",
    "# df.to_excel('Data.xlsx', index = False) # data를 xlsx 파일로 저장\n",
    "# df.to_csv('Data.csv', index = False) # data를 csv 파일로 저장\n",
    "df.to_json('data.json', indent = 2) # data를 json 파일로 저장"
   ]
  },
  {
   "cell_type": "code",
   "execution_count": null,
   "id": "UQ0GFbXeQdsf",
   "metadata": {
    "id": "UQ0GFbXeQdsf"
   },
   "outputs": [],
   "source": []
  }
 ],
 "metadata": {
  "colab": {
   "provenance": []
  },
  "kernelspec": {
   "display_name": "Python 3",
   "language": "python",
   "name": "python3"
  },
  "language_info": {
   "codemirror_mode": {
    "name": "ipython",
    "version": 3
   },
   "file_extension": ".py",
   "mimetype": "text/x-python",
   "name": "python",
   "nbconvert_exporter": "python",
   "pygments_lexer": "ipython3",
   "version": "3.11.9"
  }
 },
 "nbformat": 4,
 "nbformat_minor": 5
}
