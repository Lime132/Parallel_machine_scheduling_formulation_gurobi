{
 "cells": [
  {
   "cell_type": "code",
   "execution_count": 1,
   "metadata": {
    "executionInfo": {
     "elapsed": 17,
     "status": "ok",
     "timestamp": 1748257059877,
     "user": {
      "displayName": "Joonmo Sung",
      "userId": "09164233393338433441"
     },
     "user_tz": -540
    },
    "id": "pxo7IV3YOJvP"
   },
   "outputs": [],
   "source": [
    "import cvxpy as cp\n",
    "import json"
   ]
  },
  {
   "cell_type": "code",
   "execution_count": 23,
   "metadata": {
    "executionInfo": {
     "elapsed": 20,
     "status": "ok",
     "timestamp": 1748257059898,
     "user": {
      "displayName": "Joonmo Sung",
      "userId": "09164233393338433441"
     },
     "user_tz": -540
    },
    "id": "8aaS0YBCOL8P"
   },
   "outputs": [],
   "source": [
    "# pip install cvxpy"
   ]
  },
  {
   "cell_type": "markdown",
   "metadata": {
    "id": "ySK7dyv5OJvQ"
   },
   "source": [
    "# 저자\n",
    "\n",
    "- TA: 성준모 (Joonmo Sung)\n",
    "- SYSTEMS MODELING AND PROGRAMMING LAB DEPARTMENT OF INDUSTRIAL ENGINEERING, YONSEI UNIVERSITY - SYMPLY\n",
    "- 문의: `sjm21314@naver.com`,`sjm21314@yonsei.ac.kr`\n",
    "***\n",
    "본 강의자료는 Keha,A. B.,Khowala,K.,&Fowler,J. W. (2009). Mixed integer programming formulations for single machine scheduling problems. Computers & Industrial Engineering, 56(1), 357-367 논문을 바탕으로 제작되었으며,\n",
    "\n",
    "반도체데이터사이언스 협동과정 수업 용도 이외의 목적으로 저자의 허락 없이 다른 사람들과 공유할 수 없습니다."
   ]
  },
  {
   "cell_type": "markdown",
   "metadata": {
    "id": "HyDHrUJyOJvQ"
   },
   "source": [
    "## Dataset\n",
    "### Set\n",
    "- J = $\\{1,2,...,n\\}, j \\in J$ (Job)\n",
    "- $\\mu$ = $\\{1,2, ..., m\\}, i \\in \\mu$ (Machine)\n",
    "### Parameters\n",
    "- $p_j$: processing time of job $j$\n",
    "- $d_j$: due date of job $j$\n",
    "- $w_j$: weight of job $j$\n",
    "- $r_j$: release date of job $j$"
   ]
  },
  {
   "cell_type": "code",
   "execution_count": 2,
   "metadata": {},
   "outputs": [],
   "source": [
    "with open('data.json') as file:\n",
    "    data = json.load(file)"
   ]
  },
  {
   "cell_type": "code",
   "execution_count": 3,
   "metadata": {},
   "outputs": [
    {
     "name": "stdout",
     "output_type": "stream",
     "text": [
      "5\n",
      "{'0': 1, '1': 15, '2': 12, '3': 13, '4': 9}\n",
      "{'0': 30, '1': 5, '2': 15, '3': 22, '4': 40}\n",
      "{'0': 6, '1': 3, '2': 2, '3': 5, '4': 2}\n",
      "{'0': 22, '1': 16, '2': 15, '3': 4, '4': 10}\n"
     ]
    }
   ],
   "source": [
    "print(len(data['N']))\n",
    "print(data['p'])\n",
    "print(data['d'])\n",
    "print(data['w'])\n",
    "print(data['r'])"
   ]
  },
  {
   "cell_type": "code",
   "execution_count": 4,
   "metadata": {
    "executionInfo": {
     "elapsed": 2,
     "status": "ok",
     "timestamp": 1748257059899,
     "user": {
      "displayName": "Joonmo Sung",
      "userId": "09164233393338433441"
     },
     "user_tz": -540
    },
    "id": "YiU068j5OJvQ"
   },
   "outputs": [],
   "source": [
    "# Offline 상황을 가정.\n",
    "\n",
    "n = len(data['N']) # 작업의 개수\n",
    "m = 2 # 기계의 개수 \n",
    "\n",
    "# Sets\n",
    "J = [_ for _ in range(n)] # 작업 set을 리스트 자료구조를 이용해 0, 1, 2,..., n-1 까지 담아줌\n",
    "Mu = [_ for _ in range(m)] # 기계 set을 리스트 자료구조를 이용해 0, 1, 2,..., m-1 까지 담아줌\n",
    "\n",
    "# Parameters\n",
    "p = [data['p'][f'{i}'] for i in J] # 작업의 가공시간 데이터를 리스트 자료구조를 이용해 만들어 줌\n",
    "d = [data['d'][f'{i}'] for i in J] # 작업의 마감 기한 데이터를 리스트 자료구조를 이용해 만들어 줌\n",
    "w = [data['w'][f'{i}'] for i in J] # 작업의 가중치 데이터를 리스트 자료구조를 이용해 만들어 줌\n",
    "r = [data['r'][f'{i}'] for i in J] # 작업의 release date(도착 시점) 데이터를 리스트 자료구조를 이용해 만들어 줌\n",
    "\n",
    "M = (sum(p) + sum(r)) * 2 # big M"
   ]
  },
  {
   "cell_type": "code",
   "execution_count": 5,
   "metadata": {},
   "outputs": [
    {
     "name": "stdout",
     "output_type": "stream",
     "text": [
      "[1, 15, 12, 13, 9]\n",
      "[30, 5, 15, 22, 40]\n",
      "[6, 3, 2, 5, 2]\n",
      "[22, 16, 15, 4, 10]\n"
     ]
    }
   ],
   "source": [
    "print(p)\n",
    "print(d)\n",
    "print(w)\n",
    "print(r)"
   ]
  },
  {
   "cell_type": "code",
   "execution_count": 6,
   "metadata": {
    "executionInfo": {
     "elapsed": 1,
     "status": "ok",
     "timestamp": 1748257059963,
     "user": {
      "displayName": "Joonmo Sung",
      "userId": "09164233393338433441"
     },
     "user_tz": -540
    },
    "id": "huDHpyE9OJvR"
   },
   "outputs": [],
   "source": [
    "obj_select = 'wct' # 'wct', 'tj', 'twt', 'L_max' 'C_max' 중 하나 선택\n",
    "release_time = True"
   ]
  },
  {
   "cell_type": "markdown",
   "metadata": {},
   "source": [
    "# Identical Parallel machines (Pm) 상황을 가정"
   ]
  },
  {
   "cell_type": "markdown",
   "metadata": {
    "id": "h2u93KjVOJvS"
   },
   "source": [
    "## M1 - Time-indexed model formulation"
   ]
  },
  {
   "cell_type": "markdown",
   "metadata": {},
   "source": [
    "### Sets\n",
    "- $\\tau$: Set of time periods, t = 1,2,...,l"
   ]
  },
  {
   "cell_type": "code",
   "execution_count": 7,
   "metadata": {},
   "outputs": [],
   "source": [
    "l = sum(p) + max(r) # l은 마지막 작업의 종료 시점에 대한 upper bound\n",
    "Tau = [_ for _ in range(l)] # Time horizon set 설정"
   ]
  },
  {
   "cell_type": "markdown",
   "metadata": {
    "id": "5az8PykvOJvS"
   },
   "source": [
    "### Decision Variables\n",
    "- $x_{i,j,t}$: 작업 $j$가 머신 $i$에서 period t에서 시작하면 1, 아니면 0인 이진변수, $x_{i,j,t} \\in \\{0, 1\\} \\ \\forall i \\in \\tau,  \\forall j \\in N, \\forall t \\in \\tau$"
   ]
  },
  {
   "cell_type": "code",
   "execution_count": 8,
   "metadata": {
    "executionInfo": {
     "elapsed": 37,
     "status": "ok",
     "timestamp": 1748257060001,
     "user": {
      "displayName": "Joonmo Sung",
      "userId": "09164233393338433441"
     },
     "user_tz": -540
    },
    "id": "hifwr_c5OJvS"
   },
   "outputs": [],
   "source": [
    "# Decision Variable 만들기\n",
    "x =  {(i, j, t): cp.Variable(boolean = True, name = f\"x_{i+1}_{j+1}_{t}\") for i in Mu for j in J for t in Tau} # 간트차트를 위해 이름을 만듦"
   ]
  },
  {
   "cell_type": "markdown",
   "metadata": {
    "id": "iAUPHM6_OJvT"
   },
   "source": [
    "### 기본 constraint\n",
    "- $\\sum_{i \\in \\mu}\\sum_{t=0}^{l-p_j+1} x_{i,j,t} = 1 \\quad \\forall j \\in J$\n",
    "- $\\sum_{j \\in J} \\sum_{h = max(0, t-p_j+1)}^t x_{i,j,h} \\leq 1 \\quad \\quad i \\in \\mu, \\forall t \\in \\tau$"
   ]
  },
  {
   "cell_type": "code",
   "execution_count": 9,
   "metadata": {
    "executionInfo": {
     "elapsed": 800,
     "status": "ok",
     "timestamp": 1748257060863,
     "user": {
      "displayName": "Joonmo Sung",
      "userId": "09164233393338433441"
     },
     "user_tz": -540
    },
    "id": "3qUXg_4rOJvT"
   },
   "outputs": [],
   "source": [
    "# 제약식 리스트 선언\n",
    "constraints = [] # 제약식 담아주는 리스트\n",
    "\n",
    "# 제약식 추가\n",
    "constraints += [sum(sum(x[i,j,t] for t in range(0, len(Tau)-p[j]+1)) for i in Mu) == 1 for j in J]\n",
    "constraints += [sum(sum(x[i,j,h] for h in range(max(0, t-p[j]+1), t + 1)) for j in J) <= 1 for i in Mu for t in Tau]"
   ]
  },
  {
   "cell_type": "markdown",
   "metadata": {
    "id": "yWzEzW8BOJvT"
   },
   "source": [
    "#### Release time 반영 제약식\n",
    "$ \\sum_{i \\in \\mu} \\sum_{t = 0}^{r_j -1} x_{i,j,t} = 0 \\quad \\forall j \\in J $"
   ]
  },
  {
   "cell_type": "code",
   "execution_count": 10,
   "metadata": {
    "executionInfo": {
     "elapsed": 3,
     "status": "ok",
     "timestamp": 1748257060867,
     "user": {
      "displayName": "Joonmo Sung",
      "userId": "09164233393338433441"
     },
     "user_tz": -540
    },
    "id": "GTO4ZYNYOJvT"
   },
   "outputs": [],
   "source": [
    "if release_time == True:\n",
    "    constraints += [sum(sum(x[i,j,t]  for t in range(0, r[j])) for i in Mu)== 0 for j in J]"
   ]
  },
  {
   "cell_type": "markdown",
   "metadata": {
    "id": "FT43ctjpOJvT"
   },
   "source": [
    "#### To minimize the total weighted completion time\n",
    "- $ Minimize \\sum_{j \\in J} w_j C_j$\n",
    "- $ C_j \\geq \\sum_{i \\in \\mu}\\sum_{t \\in \\Tau}(t + p_j) x_{i,j,t} \\quad \\forall j \\in J $"
   ]
  },
  {
   "cell_type": "code",
   "execution_count": 11,
   "metadata": {
    "executionInfo": {
     "elapsed": 4,
     "status": "ok",
     "timestamp": 1748257060868,
     "user": {
      "displayName": "Joonmo Sung",
      "userId": "09164233393338433441"
     },
     "user_tz": -540
    },
    "id": "HNZ24uSjOJvT"
   },
   "outputs": [],
   "source": [
    "if obj_select == \"wct\":\n",
    "    # 작업의 종료 시점을 나타내는 C_j 선언\n",
    "    C = {(j): cp.Variable(nonneg = True, name = f\"C_{j+1}\") for j in J}\n",
    "\n",
    "    # C_j 관련 제약식 추가\n",
    "    constraints += [C[j] >= sum(sum((t+p[j]) * x[i,j,t] for t in Tau) for i in Mu) for j in J]\n",
    "\n",
    "    # 목적식\n",
    "    obj = cp.Minimize(sum(w[j] * C[j] for j in J))"
   ]
  },
  {
   "cell_type": "markdown",
   "metadata": {},
   "source": [
    "#### To minimize the total weighted tardiness\n",
    "\n",
    "- $ Minimize \\sum_{j \\in J} w_j T_j$\n",
    "- $ C_j \\geq \\sum_{i \\in \\mu}\\sum_{t \\in \\Tau}(t + p_j) x_{i,j,t} \\quad \\forall j \\in J $\n",
    "- $ T_j \\geq C_j - d_j \\quad \\forall j \\in J $"
   ]
  },
  {
   "cell_type": "code",
   "execution_count": 12,
   "metadata": {},
   "outputs": [],
   "source": [
    "if obj_select == \"twt\":\n",
    "    \n",
    "    # 작업의 종료 시점을 나타내는 C_j와 T_j 선언\n",
    "    C = {(j): cp.Variable(nonneg = True, name = f\"C_{j+1}\") for j in J}\n",
    "    T = {(j): cp.Variable(nonneg = True, name = f\"T_{j+1}\") for j in J}\n",
    "\n",
    "    # C_j 관련 제약식 추가\n",
    "    constraints += [C[j] >= sum(sum((t+p[j]) * x[i,j,t] for t in Tau) for i in Mu) for j in J]\n",
    "    # T_j 제약식 추가\n",
    "    constraints += [T[j] >= C[j] - d[j] for j in J]\n",
    "\n",
    "    # 목적식\n",
    "    obj = cp.Minimize(sum(w[j] * T[j] for j in J))"
   ]
  },
  {
   "cell_type": "markdown",
   "metadata": {},
   "source": [
    "#### To minimize $L_{max}$\n",
    "- $ Minimize \\ L_{max}$\n",
    "- $ C_j \\geq \\sum_{i \\in \\mu}\\sum_{t \\in \\Tau}(t + p_j) x_{i,j,t} \\quad \\forall j \\in J $\n",
    "- $ L_{max} \\geq (C_j - d_j) \\quad \\forall j \\in N$"
   ]
  },
  {
   "cell_type": "code",
   "execution_count": 13,
   "metadata": {},
   "outputs": [],
   "source": [
    "if obj_select == \"L_max\":\n",
    "     \n",
    "    # 작업의 종료 시점을 나타내는 C_j와 L_max 선언\n",
    "    C = {(j): cp.Variable(nonneg = True, name = f\"C_{j+1}\") for j in J}\n",
    "    L_max = cp.Variable(name= \"L_max\") # L_max를 나타내는 연속형 변수   \n",
    "\n",
    "    # C_j 관련 제약식 추가\n",
    "    constraints += [C[j] >= sum(sum((t+p[j]) * x[i,j,t] for t in Tau) for i in Mu) for j in J]\n",
    "    # L_max 제약식\n",
    "    constraints += [L_max >= C[j] - d[j] for j in J]\n",
    "\n",
    "    # 목적식\n",
    "    obj = cp.Minimize(L_max)"
   ]
  },
  {
   "cell_type": "markdown",
   "metadata": {
    "id": "eL8L5EQ4OJvT"
   },
   "source": [
    "#### To minimize the number of tardy jobs\n",
    "$ Minimize \\ \\sum_{i \\in \\mu}\\sum_{j \\in J}\\sum_{t \\in \\tau}\\frac{\\max(0, t-d_j+p_j)}{\\max(1, t - d_j + p_j)}x_{i,j,t}$"
   ]
  },
  {
   "cell_type": "code",
   "execution_count": 14,
   "metadata": {
    "executionInfo": {
     "elapsed": 2,
     "status": "ok",
     "timestamp": 1748257060868,
     "user": {
      "displayName": "Joonmo Sung",
      "userId": "09164233393338433441"
     },
     "user_tz": -540
    },
    "id": "YikuBW-iOJvT"
   },
   "outputs": [],
   "source": [
    "if obj_select == \"tj\":\n",
    "    \n",
    "    # 목적식\n",
    "    obj = cp.Minimize(sum(sum(sum((max(0, t - d[j] + p[j]))/(max(1, t - d[j] + p[j])) * x[i,j,t] for t in Tau) for j in J) for i in Mu))"
   ]
  },
  {
   "cell_type": "markdown",
   "metadata": {},
   "source": [
    "#### To minimize makespan\n",
    "- $ Minimize \\ C_{max} $\n",
    "- $ C_{max} \\geq \\sum_{i \\in \\mu}\\sum_{t \\in \\Tau}(t + p_j) x_{i,j,t} \\quad \\forall j \\in J $"
   ]
  },
  {
   "cell_type": "code",
   "execution_count": 16,
   "metadata": {},
   "outputs": [],
   "source": [
    "if obj_select == 'C_max':\n",
    "\n",
    "    # Makespan인 C_max 선언\n",
    "    C_max = cp.Variable(nonneg = True, name= \"C_max\") \n",
    "\n",
    "    # C_max 제약식\n",
    "    constraints += [C_max >= sum(sum((t+p[j]) * x[i,j,t] for t in Tau) for i in Mu) for j in J]\n",
    "\n",
    "    # 목적식\n",
    "    obj = cp.Minimize(C_max)"
   ]
  },
  {
   "cell_type": "code",
   "execution_count": 17,
   "metadata": {},
   "outputs": [
    {
     "name": "stdout",
     "output_type": "stream",
     "text": [
      "Set parameter Username\n",
      "Set parameter LicenseID to value 2583767\n",
      "Academic license - for non-commercial use only - expires 2025-11-14\n"
     ]
    },
    {
     "data": {
      "text/plain": [
       "np.float64(427.0)"
      ]
     },
     "execution_count": 17,
     "metadata": {},
     "output_type": "execute_result"
    }
   ],
   "source": [
    "prob = cp.Problem(obj, constraints)\n",
    "prob.solve()"
   ]
  },
  {
   "cell_type": "code",
   "execution_count": 18,
   "metadata": {},
   "outputs": [
    {
     "name": "stdout",
     "output_type": "stream",
     "text": [
      "최적해 상태: optimal\n",
      "최적값: 427.0\n"
     ]
    }
   ],
   "source": [
    "print(\"최적해 상태:\", prob.status)\n",
    "print(\"최적값:\", prob.value)"
   ]
  },
  {
   "cell_type": "code",
   "execution_count": 19,
   "metadata": {},
   "outputs": [
    {
     "name": "stdout",
     "output_type": "stream",
     "text": [
      "x_1_1_22: 1.0\n",
      "x_1_3_23: 1.0\n",
      "x_1_5_10: 1.0\n",
      "x_2_2_17: 1.0\n",
      "x_2_4_4: 1.0\n"
     ]
    }
   ],
   "source": [
    "for (i, j, t), dv in x.items():\n",
    "      if dv.value >= 1e-6:    \n",
    "        print(f\"{dv}: {dv.value}\")"
   ]
  },
  {
   "cell_type": "code",
   "execution_count": 20,
   "metadata": {},
   "outputs": [],
   "source": [
    "import Gantt_Chart"
   ]
  },
  {
   "cell_type": "code",
   "execution_count": 21,
   "metadata": {},
   "outputs": [
    {
     "data": {
      "image/png": "[encoded data removed]",
      "text/plain": [
       "<Figure size 1000x500 with 1 Axes>"
      ]
     },
     "metadata": {},
     "output_type": "display_data"
    }
   ],
   "source": [
    "Gantt_Chart.M1_cvxpy_gantt(x, p, J, m)"
   ]
  },
  {
   "cell_type": "code",
   "execution_count": null,
   "metadata": {},
   "outputs": [],
   "source": []
  }
 ],
 "metadata": {
  "colab": {
   "provenance": []
  },
  "kernelspec": {
   "display_name": "Python 3",
   "language": "python",
   "name": "python3"
  },
  "language_info": {
   "codemirror_mode": {
    "name": "ipython",
    "version": 3
   },
   "file_extension": ".py",
   "mimetype": "text/x-python",
   "name": "python",
   "nbconvert_exporter": "python",
   "pygments_lexer": "ipython3",
   "version": "3.11.9"
  },
  "orig_nbformat": 4
 },
 "nbformat": 4,
 "nbformat_minor": 0
}
